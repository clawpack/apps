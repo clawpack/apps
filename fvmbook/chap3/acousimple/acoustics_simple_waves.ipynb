{
 "metadata": {
  "name": "",
  "signature": "sha256:fe4ac1911f7fa07461f66cbe9ed9f96aea142f18cac76b6289795e4be5a26f38"
 },
 "nbformat": 3,
 "nbformat_minor": 0,
 "worksheets": [
  {
   "cells": [
    {
     "cell_type": "heading",
     "level": 1,
     "metadata": {},
     "source": [
      "Simple waves in the acoustics system"
     ]
    },
    {
     "cell_type": "markdown",
     "metadata": {},
     "source": [
      "The code in this notebook runs the simulation that produces the output shown in Figures 3.1 and 3.8."
     ]
    },
    {
     "cell_type": "code",
     "collapsed": false,
     "input": [
      "%matplotlib inline\n",
      "from clawpack import pyclaw\n",
      "from clawpack import riemann\n",
      "import numpy as np\n",
      "\n",
      "import matplotlib\n",
      "matplotlib.rcParams.update({'font.size': 22})\n",
      "import matplotlib.pyplot as plt\n",
      "from clawpack.visclaw.JSAnimation import IPython_display"
     ],
     "language": "python",
     "metadata": {},
     "outputs": []
    },
    {
     "cell_type": "code",
     "collapsed": false,
     "input": [
      "# Define the domain, equations, and boundary conditions\n",
      "domain = pyclaw.Domain([-1.],[1.],[800])\n",
      "solver = pyclaw.ClawSolver1D(riemann.acoustics_1D)\n",
      "solver.bc_lower[0] = pyclaw.BC.wall\n",
      "solver.bc_upper[0] = pyclaw.BC.extrap\n",
      "\n",
      "num_eqn = 2\n",
      "solution = pyclaw.Solution(num_eqn,domain)\n",
      "solver.limiters = pyclaw.limiters.tvd.MC\n",
      "\n",
      "# Define the material parameters\n",
      "rho = 1.0    # Density\n",
      "bulk = 0.25  # Bulk modulus\n",
      "solution.problem_data['rho']=rho\n",
      "solution.problem_data['bulk']=bulk\n",
      "solution.problem_data['zz']=np.sqrt(rho*bulk)  # Impedance\n",
      "solution.problem_data['cc']=np.sqrt(bulk/rho)  # Sound speed\n",
      "\n",
      "# Define the initial condition\n",
      "xc=solution.p_centers[0]   # Cell centers\n",
      "solution.q[0,:] = 0.5*np.exp(-80 * xc**2) + 0.5*(np.abs(xc+0.2)<0.1)\n",
      "solution.q[1,:] = 0.\n",
      "\n",
      "# Set up the simulation and output\n",
      "claw = pyclaw.Controller()\n",
      "claw.solution = solution\n",
      "claw.solver = solver\n",
      "claw.output_format = None\n",
      "claw.keep_copy = True\n",
      "claw.tfinal = 3.0\n",
      "claw.num_output_times   = 30\n",
      "claw.verbosity = 1"
     ],
     "language": "python",
     "metadata": {},
     "outputs": []
    },
    {
     "cell_type": "code",
     "collapsed": false,
     "input": [
      "status = claw.run()"
     ],
     "language": "python",
     "metadata": {},
     "outputs": []
    },
    {
     "cell_type": "code",
     "collapsed": false,
     "input": [
      "fig = plt.figure(figsize=[8,4])\n",
      "ax = plt.axes(xlim=(xc[0], xc[-1]), ylim=(0, 1.0))\n",
      "line, = ax.plot([], [], lw=2)\n",
      "plt.xlabel('x'); plt.ylabel('p')\n",
      "\n",
      "def fplot(i):\n",
      "    frame = claw.frames[i]\n",
      "    q = frame.q[0,:]\n",
      "    line.set_data(xc, q)\n",
      "    return line,\n",
      "\n",
      "matplotlib.animation.FuncAnimation(fig, fplot, frames=len(claw.frames))"
     ],
     "language": "python",
     "metadata": {},
     "outputs": []
    }
   ],
   "metadata": {}
  }
 ]
}