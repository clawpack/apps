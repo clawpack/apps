{
 "metadata": {
  "name": "",
  "signature": "sha256:fd12dee32ae89b4e74578e0e21a6cd8fd0204b8f561aecfbcf4ff1d41e6aab73"
 },
 "nbformat": 3,
 "nbformat_minor": 0,
 "worksheets": [
  {
   "cells": [
    {
     "cell_type": "code",
     "collapsed": false,
     "input": [
      "%matplotlib inline\n",
      "import matplotlib.pyplot as plt\n",
      "from clawpack import riemann\n",
      "import numpy as np"
     ],
     "language": "python",
     "metadata": {},
     "outputs": []
    },
    {
     "cell_type": "markdown",
     "metadata": {},
     "source": [
      "# Riemann solver animation\n",
      "The next cell sets up a function that takes a Riemann problem (left state, right state, and approximate solver) and animates the approximate solution."
     ]
    },
    {
     "cell_type": "code",
     "collapsed": false,
     "input": [
      "from matplotlib import animation\n",
      "from clawpack.visclaw.JSAnimation import IPython_display\n",
      "\n",
      "def riemann_solution(num_eqn,solver,q_l,q_r,aux_l=None,aux_r=None,t=0.2,problem_data=None):\n",
      "    if aux_l is None:\n",
      "        aux_l = np.zeros(num_eqn)\n",
      "    if aux_r is None:\n",
      "        aux_r = np.zeros(num_eqn)\n",
      "    \n",
      "    wave, s, amdq, apdq = solver(q_l.reshape((num_eqn,1)),q_r.reshape((num_eqn,1)),\n",
      "                                 aux_l.reshape((num_eqn,1)),aux_r.reshape((num_eqn,1)),problem_data)\n",
      "    \n",
      "    x = np.linspace(-1.,1.,1000)\n",
      "    \n",
      "    states = [q_l]\n",
      "    for i in range(len(s)):\n",
      "        states.append(states[-1] + np.squeeze(wave[:,i,0]))\n",
      "    \n",
      "    fig = plt.figure(figsize=(18,6))\n",
      "    axes = [0]*num_eqn\n",
      "    lines = [0]*num_eqn\n",
      "    for i in range(num_eqn):\n",
      "        axes[i] = fig.add_subplot(1,num_eqn,i+1)\n",
      "        lines[i], = plt.plot(x,0*x,lw=2)\n",
      "        axes[i].set_xlim((-1,1))\n",
      "        qmax = max([state[i] for state in states])\n",
      "        qmin = min([state[i] for state in states])\n",
      "        qdiff = qmax - qmin\n",
      "        axes[i].set_ylim((qmin-0.1*qdiff,qmax+0.1*qdiff))\n",
      "        plt.title('q['+str(i)+']')\n",
      "    \n",
      "    if num_eqn == 2:\n",
      "        q0 = np.array([state[0] for state in states])\n",
      "        q1 = np.array([state[1] for state in states])\n",
      "        fig2 = plt.figure()\n",
      "        plt.plot(q0,q1,'o-k')\n",
      "        plt.title('phase plane')\n",
      "        plt.axis('equal')\n",
      " \n",
      "    def fplot(t):\n",
      "        q = np.outer(states[0],(x<t*s[0]))\n",
      "    \n",
      "        for i in range(len(s)-1):\n",
      "            q = q + np.outer(states[i+1],(x>=t*s[i])*(x<t*s[i+1]))\n",
      "        q = q + np.outer(states[-1],(x>s[-1]*t))\n",
      "    \n",
      "        for i in range(num_eqn):\n",
      "            lines[i].set_data(x,q[i,:])\n",
      "        \n",
      "        return lines,\n",
      "    \n",
      "    return animation.FuncAnimation(fig, fplot, frames=np.linspace(0.,1.,11), interval=300)"
     ],
     "language": "python",
     "metadata": {},
     "outputs": []
    },
    {
     "cell_type": "markdown",
     "metadata": {},
     "source": [
      "# Acoustics: exact solution\n",
      "We can use this to examine the exact solution of an acoustics Riemann problem:"
     ]
    },
    {
     "cell_type": "code",
     "collapsed": false,
     "input": [
      "solver = riemann.acoustics_1D_py.acoustics_1D\n",
      "num_eqn = riemann.acoustics_1D_py.num_eqn\n",
      "\n",
      "q_l = np.array((1,4))\n",
      "q_r = np.array((3,7))\n",
      "\n",
      "problem_data = {}\n",
      "problem_data['zz'] = 1.0\n",
      "problem_data['cc'] = 1.0\n",
      "\n",
      "riemann_solution(num_eqn,solver,q_l,q_r,problem_data=problem_data)"
     ],
     "language": "python",
     "metadata": {},
     "outputs": []
    },
    {
     "cell_type": "markdown",
     "metadata": {},
     "source": [
      "# Euler: approximate solutions\n",
      "We can also easily compare the approximate solutions given by, say, a Roe solver and an HLL solver for the Euler equations."
     ]
    },
    {
     "cell_type": "code",
     "collapsed": false,
     "input": [
      "solver = riemann.euler_1D_py.euler_roe_1D\n",
      "num_eqn = riemann.euler_1D_py.num_eqn\n",
      "\n",
      "q_l = np.array((3.,0.,3.))\n",
      "q_r = np.array((1.,0.,1.5))\n",
      "\n",
      "problem_data = {}\n",
      "problem_data['gamma'] = 1.4\n",
      "problem_data['gamma1'] = 1.4-1.0\n",
      "problem_data['efix'] = False\n",
      "\n",
      "riemann_solution(num_eqn,solver,q_l,q_r,problem_data=problem_data)"
     ],
     "language": "python",
     "metadata": {},
     "outputs": []
    },
    {
     "cell_type": "code",
     "collapsed": false,
     "input": [
      "solver = riemann.euler_1D_py.euler_hll_1D\n",
      "riemann_solution(num_eqn,solver,q_l,q_r,problem_data=problem_data)"
     ],
     "language": "python",
     "metadata": {},
     "outputs": []
    },
    {
     "cell_type": "code",
     "collapsed": false,
     "input": [],
     "language": "python",
     "metadata": {},
     "outputs": []
    }
   ],
   "metadata": {}
  }
 ]
}