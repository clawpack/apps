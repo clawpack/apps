{
 "metadata": {
  "name": "",
  "signature": "sha256:9d29b7123140c2485c9a142657795e0267923d24de47f7f36b580c70e38c584e"
 },
 "nbformat": 3,
 "nbformat_minor": 0,
 "worksheets": [
  {
   "cells": [
    {
     "cell_type": "markdown",
     "metadata": {},
     "source": [
      "# GeoClaw topotools examples\n",
      "\n",
      "This notebook contains some examples of working with the *clawpack.geoclaw.topotools* module.  These tools facilitate creating and manipulating the *topo* files that are required as GeoClaw input to specify topography and bathymetry (underwater topography).\n",
      "\n",
      "See <http://clawpack.github.io/doc/topotools.html> for general documentation of these tools and their use in the context of GeoClaw, and <http://www.clawpack.org> for more information on the Clawpack suite of software."
     ]
    },
    {
     "cell_type": "markdown",
     "metadata": {},
     "source": [
      "## Contents\n",
      "\n",
      " - <a href=\"#fetch\">Fetching a topo file from the web</a>\n",
      " - <a href=\"#read\">Reading a topo file</a>\n",
      " - <a href=\"#plot\">Plotting topography data</a>\n",
      " - <a href=\"#crop\">Cropping topography</a>"
     ]
    },
    {
     "cell_type": "markdown",
     "metadata": {},
     "source": [
      "### Setup notebook and environment:"
     ]
    },
    {
     "cell_type": "code",
     "collapsed": false,
     "input": [
      "%pylab inline"
     ],
     "language": "python",
     "metadata": {},
     "outputs": []
    },
    {
     "cell_type": "code",
     "collapsed": false,
     "input": [
      "from clawpack.geoclaw import topotools\n",
      "import os\n",
      "CLAW = os.environ['CLAW']\n",
      "datadir = os.path.join(CLAW,'geoclaw','scratch') # directory for some sample data files"
     ],
     "language": "python",
     "metadata": {},
     "outputs": []
    },
    {
     "cell_type": "markdown",
     "metadata": {},
     "source": [
      "<div id=\"fetch\"></div>\n",
      "## Fetching a topo file from the web\n",
      "\n",
      "Many GeoClaw examples are set up to use topography files that have already been created and archived on the web, e.g. the example found in `$CLAW/geoclaw/examples/tsunami/chile2010` uses a topo file that can be obtained by these commands (which are also found in the Python script `maketopo.py` found in that directory):"
     ]
    },
    {
     "cell_type": "code",
     "collapsed": false,
     "input": [
      "from clawpack.geoclaw import util\n",
      "filename = 'etopo10min120W60W60S0S.asc'\n",
      "url = 'http://www.geoclaw.org/topo/etopo/' + filename\n",
      "util.get_remote_file(url=url, output_dir=datadir, force=True, verbose=True)"
     ],
     "language": "python",
     "metadata": {},
     "outputs": []
    },
    {
     "cell_type": "markdown",
     "metadata": {},
     "source": [
      "If all you want to do is use this topo file in a GeoClaw run, you do not need to use any further Python tools."
     ]
    },
    {
     "cell_type": "markdown",
     "metadata": {},
     "source": [
      "<div id=\"read\"></div>\n",
      "\n",
      "## Reading a topo file\n",
      "\n",
      "In order to plot or manipulate the topo data, we first read the file we just downloaded into a `topotools.Topography` object.  To do so, we must know how the data is formatted.  This file is in the format `topo_type==2` as described at <http://clawpack.github.io/doc/topo.html>:"
     ]
    },
    {
     "cell_type": "code",
     "collapsed": false,
     "input": [
      "topo_path = os.path.join(datadir, filename)\n",
      "topo = topotools.Topography()\n",
      "topo.read(topo_path, topo_type=2)"
     ],
     "language": "python",
     "metadata": {},
     "outputs": []
    },
    {
     "cell_type": "markdown",
     "metadata": {},
     "source": [
      "We can now do various things with the data.  First let's print out some basic attributes:"
     ]
    },
    {
     "cell_type": "code",
     "collapsed": false,
     "input": [
      "print \"The extent of the data in longitude and latitude: \"\n",
      "print topo.extent"
     ],
     "language": "python",
     "metadata": {},
     "outputs": []
    },
    {
     "cell_type": "code",
     "collapsed": false,
     "input": [
      "print \"The shapes of 1-dimensional arrays of longitude x and latitude y values:\", topo.x.shape, topo.y.shape\n",
      "print \"The shapes of 2-dimensional arrays X,Y and the topography data Z:\", topo.Z.shape"
     ],
     "language": "python",
     "metadata": {},
     "outputs": []
    },
    {
     "cell_type": "markdown",
     "metadata": {},
     "source": [
      "From the filename you might guess this is 10-arcminute data, we can check that it is:"
     ]
    },
    {
     "cell_type": "code",
     "collapsed": false,
     "input": [
      "print \"topo.delta = \",topo.delta\n",
      "print \"10 arcminutes is 1/6 degree = %8.6f degree\" % (1./6.)"
     ],
     "language": "python",
     "metadata": {},
     "outputs": []
    },
    {
     "cell_type": "markdown",
     "metadata": {},
     "source": [
      "<div id=plot></div>\n",
      "## Plotting topography data\n",
      "\n",
      "A simple plot with various defaults used can be obtained simply by:"
     ]
    },
    {
     "cell_type": "code",
     "collapsed": false,
     "input": [
      "topo.plot()"
     ],
     "language": "python",
     "metadata": {},
     "outputs": []
    },
    {
     "cell_type": "markdown",
     "metadata": {},
     "source": [
      "Various arguments can be supplied for more control, e.g.:"
     ]
    },
    {
     "cell_type": "code",
     "collapsed": false,
     "input": [
      "topo.plot(axes=None, region_extent=(-90,-60,-60,-40), coastlines=False)"
     ],
     "language": "python",
     "metadata": {},
     "outputs": []
    },
    {
     "cell_type": "markdown",
     "metadata": {},
     "source": [
      "Of course you can plot the data any way you want using the X, Y, and Z attributes, e.g."
     ]
    },
    {
     "cell_type": "code",
     "collapsed": false,
     "input": [
      "contourf(topo.X, topo.Y, topo.Z, [-7000, -5000, -4000, -3000, -2000, 0])\n",
      "colorbar()\n",
      "# rescale aspect ratio based on mean latitude so distances more correct:\n",
      "gca().set_aspect(1.0 / cos(pi / 180.0 * topo.y.mean()))  "
     ],
     "language": "python",
     "metadata": {},
     "outputs": []
    },
    {
     "cell_type": "markdown",
     "metadata": {},
     "source": [
      "<div id=crop></div>\n",
      "## Cropping topography\n",
      "\n",
      "Sometimes it is useful to crop a large topo file to create a smaller one that contains a sub-region, e.g."
     ]
    },
    {
     "cell_type": "code",
     "collapsed": false,
     "input": [
      "filter_region = (-90, -60, -60, -40)\n",
      "topo2 = topo.crop(filter_region)\n",
      "topo2.Z.shape"
     ],
     "language": "python",
     "metadata": {},
     "outputs": []
    },
    {
     "cell_type": "code",
     "collapsed": false,
     "input": [
      "topo2.plot()"
     ],
     "language": "python",
     "metadata": {},
     "outputs": []
    },
    {
     "cell_type": "markdown",
     "metadata": {},
     "source": [
      "The cropped topography can be written out to a new file, which will be smaller than the original:"
     ]
    },
    {
     "cell_type": "code",
     "collapsed": false,
     "input": [
      "topo2_path = os.path.join(datadir,'tip_of_south_america.tt3')\n",
      "topo2.write(topo2_path, topo_type=3)"
     ],
     "language": "python",
     "metadata": {},
     "outputs": []
    },
    {
     "cell_type": "code",
     "collapsed": false,
     "input": [
      "print \"Size of the new file: %s bytes\" % os.stat(topo2_path).st_size\n",
      "print \"Size of the original file: %s bytes\" % os.stat(topo_path).st_size"
     ],
     "language": "python",
     "metadata": {},
     "outputs": []
    },
    {
     "cell_type": "markdown",
     "metadata": {},
     "source": [
      "To obtain topography for other regions, see the links at <http://clawpack.github.io/doc/tsunamidata.html>"
     ]
    }
   ],
   "metadata": {}
  }
 ]
}