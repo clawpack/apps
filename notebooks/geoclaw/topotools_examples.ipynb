{
 "cells": [
  {
   "cell_type": "markdown",
   "metadata": {},
   "source": [
    "# GeoClaw topotools examples"
   ]
  },
  {
   "cell_type": "markdown",
   "metadata": {},
   "source": [
    "This [Jupyter notebook](http://www.jupyter.org) can be found in [collection of Clawpack apps](http://www.clawpack.org/apps.html) as the file [`$CLAW/apps/notebooks/geoclaw/topotools_examples.ipynb`](https://github.com/clawpack/apps/tree/master/notebooks/geoclaw/topotools_examples.ipynb).  \n",
    "To run this notebook, [install Clawpack](http://www.clawpack.org/installing.html), and clone the [apps repository](https://github.com/clawpack/apps)."
   ]
  },
  {
   "cell_type": "markdown",
   "metadata": {},
   "source": [
    "This notebook contains some examples of working with the *clawpack.geoclaw.topotools* module.  These tools facilitate creating and manipulating the *topo* files that are required as GeoClaw input to specify topography and bathymetry (underwater topography).\n",
    "\n",
    "See <http://www.clawpack.org/topotools_module.html> for general documentation of these tools and their use in the context of GeoClaw, and <http://www.clawpack.org> for more information on the Clawpack suite of software."
   ]
  },
  {
   "cell_type": "markdown",
   "metadata": {},
   "source": [
    "## Contents\n",
    "\n",
    " - <a href=\"#fetch\">Fetching a topo file from the web</a>\n",
    " - <a href=\"#read\">Reading a topo file</a>\n",
    " - <a href=\"#plot\">Plotting topography data</a>\n",
    " - <a href=\"#crop\">Cropping topography</a>\n",
    " - <a href=\"#coarsen\">Coarsening topography</a>\n",
    " - <a href=\"#unstructured\">Unstructured topography</a>"
   ]
  },
  {
   "cell_type": "markdown",
   "metadata": {},
   "source": [
    "### Setup notebook and environment:"
   ]
  },
  {
   "cell_type": "code",
   "execution_count": null,
   "metadata": {},
   "outputs": [],
   "source": [
    "%pylab inline"
   ]
  },
  {
   "cell_type": "code",
   "execution_count": null,
   "metadata": {},
   "outputs": [],
   "source": [
    "from __future__ import print_function\n",
    "from clawpack.geoclaw import topotools\n",
    "import os\n",
    "CLAW = os.environ['CLAW']\n",
    "datadir = os.path.join(CLAW,'geoclaw','scratch') # directory for some sample data files"
   ]
  },
  {
   "cell_type": "markdown",
   "metadata": {},
   "source": [
    "<div id=\"fetch\"></div>\n",
    "## Fetching a topo file from the web\n",
    "\n",
    "Many GeoClaw examples are set up to use topography files that have already been created and archived on the web, e.g. the example found in `$CLAW/geoclaw/examples/tsunami/chile2010` uses a topo file that can be obtained by these commands (which are also found in the Python script `maketopo.py` found in that directory):"
   ]
  },
  {
   "cell_type": "code",
   "execution_count": null,
   "metadata": {},
   "outputs": [],
   "source": [
    "from clawpack.clawutil.data import get_remote_file\n",
    "filename = 'etopo10min120W60W60S0S.asc'\n",
    "url = 'http://www.geoclaw.org/topo/etopo/' + filename\n",
    "get_remote_file(url=url, output_dir=datadir, force=True, verbose=True)"
   ]
  },
  {
   "cell_type": "markdown",
   "metadata": {},
   "source": [
    "If all you want to do is use this topo file in a GeoClaw run, you do not need to use any further Python tools."
   ]
  },
  {
   "cell_type": "markdown",
   "metadata": {},
   "source": [
    "<div id=\"read\"></div>\n",
    "\n",
    "## Reading a topo file\n",
    "\n",
    "In order to plot or manipulate the topo data, we first read the file we just downloaded into a `topotools.Topography` object.  To do so, we must know how the data is formatted.  This file is in the format `topo_type==2` as described at <http://clawpack.github.io/doc/topo.html>:"
   ]
  },
  {
   "cell_type": "code",
   "execution_count": null,
   "metadata": {},
   "outputs": [],
   "source": [
    "topo_path = os.path.join(datadir, filename)\n",
    "topo = topotools.Topography()\n",
    "topo.read(topo_path, topo_type=2)"
   ]
  },
  {
   "cell_type": "markdown",
   "metadata": {},
   "source": [
    "We can now do various things with the data.  First let's print out some basic attributes:"
   ]
  },
  {
   "cell_type": "code",
   "execution_count": null,
   "metadata": {},
   "outputs": [],
   "source": [
    "print(\"The extent of the data in longitude and latitude: \")\n",
    "print(topo.extent)"
   ]
  },
  {
   "cell_type": "code",
   "execution_count": null,
   "metadata": {},
   "outputs": [],
   "source": [
    "print(\"The shapes of 1-dimensional arrays of longitude x and latitude y values:\", topo.x.shape, topo.y.shape)\n",
    "print(\"The shapes of 2-dimensional arrays X,Y and the topography data Z:\", topo.Z.shape)"
   ]
  },
  {
   "cell_type": "markdown",
   "metadata": {},
   "source": [
    "From the filename you might guess this is 10-arcminute data, we can check that it is:"
   ]
  },
  {
   "cell_type": "code",
   "execution_count": null,
   "metadata": {},
   "outputs": [],
   "source": [
    "print(\"topo.delta = \",topo.delta)\n",
    "print(\"10 arcminutes is 1/6 degree = %8.6f degree\" % (1./6.))"
   ]
  },
  {
   "cell_type": "markdown",
   "metadata": {},
   "source": [
    "<div id=plot></div>\n",
    "## Plotting topography data\n",
    "\n",
    "A simple plot with various defaults used can be obtained simply by:"
   ]
  },
  {
   "cell_type": "code",
   "execution_count": null,
   "metadata": {},
   "outputs": [],
   "source": [
    "topo.plot()"
   ]
  },
  {
   "cell_type": "markdown",
   "metadata": {},
   "source": [
    "You can specify the limits of the color range:"
   ]
  },
  {
   "cell_type": "code",
   "execution_count": null,
   "metadata": {},
   "outputs": [],
   "source": [
    "topo.plot(limits=(-6000,4000))"
   ]
  },
  {
   "cell_type": "markdown",
   "metadata": {},
   "source": [
    "Various other arguments can be supplied for more control, see [the documentation](http://www.clawpack.org/topotools_module.html)."
   ]
  },
  {
   "cell_type": "markdown",
   "metadata": {},
   "source": [
    "Of course you can plot the data any way you want using the X, Y, and Z attributes.\n",
    "\n",
    "Here are a couple examples:"
   ]
  },
  {
   "cell_type": "code",
   "execution_count": null,
   "metadata": {},
   "outputs": [],
   "source": [
    "figure(figsize=(12,6))\n",
    "subplot(121)\n",
    "contourf(topo.X, topo.Y, topo.Z, [-7000, -5000, -4000, -3000, -2000, 0])\n",
    "colorbar()\n",
    "# rescale aspect ratio based on mean latitude so distances more correct:\n",
    "gca().set_aspect(1.0 / cos(pi / 180.0 * topo.y.mean()))  \n",
    "\n",
    "subplot(122)\n",
    "contourf(topo.X, topo.Y, topo.Z, [0,10000], colors = '#55ff55')\n",
    "contour(topo.X, topo.Y, topo.Z, [0], linestyles='-', colors='k')\n",
    "gca().set_aspect(1.0 / cos(pi / 180.0 * topo.y.mean()))  \n"
   ]
  },
  {
   "cell_type": "markdown",
   "metadata": {},
   "source": [
    "<div id=crop></div>\n",
    "## Cropping topography\n",
    "\n",
    "Sometimes it is useful to crop a large topo file to create a smaller one that contains a sub-region, e.g."
   ]
  },
  {
   "cell_type": "code",
   "execution_count": null,
   "metadata": {},
   "outputs": [],
   "source": [
    "filter_region = (-90, -60, -60, -40)\n",
    "topo2 = topo.crop(filter_region)\n",
    "topo2.Z.shape"
   ]
  },
  {
   "cell_type": "code",
   "execution_count": null,
   "metadata": {},
   "outputs": [],
   "source": [
    "topo2.plot()"
   ]
  },
  {
   "cell_type": "markdown",
   "metadata": {},
   "source": [
    "The cropped topography can be written out to a new file, which will be smaller than the original:"
   ]
  },
  {
   "cell_type": "code",
   "execution_count": null,
   "metadata": {},
   "outputs": [],
   "source": [
    "topo2_path = os.path.join(datadir,'tip_of_south_america.tt3')\n",
    "topo2.write(topo2_path, topo_type=3)"
   ]
  },
  {
   "cell_type": "code",
   "execution_count": null,
   "metadata": {},
   "outputs": [],
   "source": [
    "print(\"Size of the new file: %s bytes\" % os.stat(topo2_path).st_size)\n",
    "print(\"Size of the original file: %s bytes\" % os.stat(topo_path).st_size)"
   ]
  },
  {
   "cell_type": "markdown",
   "metadata": {},
   "source": [
    "To obtain topography for other regions, see the links at <http://clawpack.github.io/doc/tsunamidata.html>"
   ]
  },
  {
   "cell_type": "markdown",
   "metadata": {},
   "source": [
    "<div id=coarsen></div>\n",
    "## Coarsening topography\n",
    "\n",
    "The `crop` function also has an optional argument `coarsen` with default value 1.  If the value is  larger integer than it coarsens the grid by that factor in each direction.\n",
    "\n",
    "In the example below `filter_region=None` specifies that the original domain size should be retained, but one can also crop it at the same time as coarsening."
   ]
  },
  {
   "cell_type": "code",
   "execution_count": null,
   "metadata": {},
   "outputs": [],
   "source": [
    "topo3 = topo.crop(filter_region=None, coarsen=4)\n",
    "print(\"The original grid was of shape %s, topo3 has shape %s\" % (topo.Z.shape,topo3.Z.shape))\n",
    "\n",
    "figure(figsize=(12,6))\n",
    "ax1 = subplot(121)\n",
    "topo.plot(axes=ax1)\n",
    "title('Original')\n",
    "ax2 = subplot(122)\n",
    "topo3.plot(axes=ax2)\n",
    "title('Coarsened')"
   ]
  },
  {
   "cell_type": "markdown",
   "metadata": {},
   "source": [
    "<div id=unstructured></div>\n",
    "## Unstructured Topography"
   ]
  },
  {
   "cell_type": "markdown",
   "metadata": {},
   "source": [
    "The `topotools` and `Topography` class also have facilities for handling unstructured topography data.  To start we will randomly sample the data we were working with above to get an unstructured data file.  Here we generate random tuples of longitude-latitude and interpolate the original data so we can get a field at the random points."
   ]
  },
  {
   "cell_type": "code",
   "execution_count": null,
   "metadata": {},
   "outputs": [],
   "source": [
    "import scipy.interpolate as interpolate\n",
    "\n",
    "N = 10000\n",
    "\n",
    "x = numpy.random.rand(N) * (topo.x[-1] - topo.x[0]) + topo.x[0]\n",
    "y = numpy.random.rand(N) * (topo.y[-1] - topo.y[0]) + topo.y[0]\n",
    "\n",
    "# Here we need to transpose the Z array so that the coordinate evaluation is correct\n",
    "bathy = interpolate.RectBivariateSpline(topo.x, topo.y, topo.Z.transpose())\n",
    "\n",
    "# strange hack to evaluate the function `bathy` produced by RectBivariateSpline since bathy(x, y) does not work\n",
    "z = numpy.empty(x.shape)\n",
    "for i in range(x.shape[0]):\n",
    "    z[i] = bathy(x[i], y[i])"
   ]
  },
  {
   "cell_type": "markdown",
   "metadata": {},
   "source": [
    "Now lets construct the unstructured topography object based on the random locations we just generated."
   ]
  },
  {
   "cell_type": "code",
   "execution_count": null,
   "metadata": {},
   "outputs": [],
   "source": [
    "unstructured_topo = topotools.Topography(unstructured=True)\n",
    "unstructured_topo.x = x\n",
    "unstructured_topo.y = y\n",
    "unstructured_topo.z = z"
   ]
  },
  {
   "cell_type": "markdown",
   "metadata": {},
   "source": [
    "We can plot the data as is to see what we randomly created so far"
   ]
  },
  {
   "cell_type": "code",
   "execution_count": null,
   "metadata": {},
   "outputs": [],
   "source": [
    "unstructured_topo.plot()"
   ]
  },
  {
   "cell_type": "markdown",
   "metadata": {},
   "source": [
    "One of the primary things we want to be able to do with unstructured topography data is to turn it into structured data which GeoClaw can use.  In order to do this, there is a method in the `Topography` class called `interp_unstructured` which has a number of options.  Here we will just go with the defaults (please see the documentation for the full assortment of options).   In this case we will provide two things to the routine.  The first is topography to use to fill in possible gaps in the unstructured topography.  This \"fill topography\" can be structured or unstructured.  The second argument we provide is a limit on the calculated grid spacing.  The routine attempts to calculate the minimum distance between two points and uses this as the basis of the structured grid.  Placing a limit on this insures that the resulting grid is not too fine.  Addtional options for filtering the data in the routine, smoothing and interpolation strategies are also available."
   ]
  },
  {
   "cell_type": "code",
   "execution_count": null,
   "metadata": {},
   "outputs": [],
   "source": [
    "#unstructured_topo.interp_unstructured(topo, delta_limit=10000)  # fills in with original topography, if available\n",
    "unstructured_topo.interp_unstructured([], delta_limit=10000)  # does not fill in with other topo, more realistic"
   ]
  },
  {
   "cell_type": "markdown",
   "metadata": {},
   "source": [
    "Now that the topography has been interpolated onto a new grid, we can check to see if the `unstructured` attribute is in fact now set to `False`."
   ]
  },
  {
   "cell_type": "code",
   "execution_count": null,
   "metadata": {},
   "outputs": [],
   "source": [
    "unstructured_topo.unstructured"
   ]
  },
  {
   "cell_type": "markdown",
   "metadata": {},
   "source": [
    "A new set of attributes `X, Y, Z` have been created, interpolated to a regular grid:"
   ]
  },
  {
   "cell_type": "code",
   "execution_count": null,
   "metadata": {},
   "outputs": [],
   "source": [
    "print(\"unstructured_topo.z has shape %s, unstructured_topo.Z has shape %s\" \\\n",
    "        % (unstructured_topo.z.shape, unstructured_topo.Z.shape))"
   ]
  },
  {
   "cell_type": "markdown",
   "metadata": {},
   "source": [
    "Usually at this point you will want to save out a copy of the interpolated topography for use with GeoClaw, the usual functions from before work of course.  More interesting is to plot the new topography which we can again do by using the `plot` function:"
   ]
  },
  {
   "cell_type": "code",
   "execution_count": null,
   "metadata": {},
   "outputs": [],
   "source": [
    "unstructured_topo.plot()"
   ]
  },
  {
   "cell_type": "code",
   "execution_count": null,
   "metadata": {},
   "outputs": [],
   "source": []
  }
 ],
 "metadata": {
  "kernelspec": {
   "display_name": "Python 2",
   "language": "python",
   "name": "python2"
  },
  "language_info": {
   "codemirror_mode": {
    "name": "ipython",
    "version": 3
   },
   "file_extension": ".py",
   "mimetype": "text/x-python",
   "name": "python",
   "nbconvert_exporter": "python",
   "pygments_lexer": "ipython3",
   "version": "3.5.2"
  }
 },
 "nbformat": 4,
 "nbformat_minor": 1
}
