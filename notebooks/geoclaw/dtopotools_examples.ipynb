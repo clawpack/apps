{
 "cells": [
  {
   "cell_type": "markdown",
   "metadata": {},
   "source": [
    "# GeoClaw dtopotools examples"
   ]
  },
  {
   "cell_type": "markdown",
   "metadata": {},
   "source": [
    "This [Jupyter notebook](http://www.jupyter.org) can be found in [collection of Clawpack apps](http://www.clawpack.org/apps.html) as the file [`$CLAW/apps/notebooks/geoclaw/dtopotools_examples.ipynb`](https://github.com/clawpack/apps/tree/master/notebooks/geoclaw/dtopotools_examples.ipynb).  \n",
    "To run this notebook, [install Clawpack](http://www.clawpack.org/installing.html), and clone the [apps repository](https://github.com/clawpack/apps)."
   ]
  },
  {
   "cell_type": "markdown",
   "metadata": {},
   "source": [
    "This notebook contains some examples of working with the *clawpack.geoclaw.dtopotools* module.  These tools facilitate creating and manipulating the *dtopo* files that are required as GeoClaw input to specify moving topography, in particular the seafloor motion due to a subduction zone earthquake.  All the examples in this notebook are of this nature: slip on a fault surface (or in geneneral a collection of rectangular planar subfaults making up the fault) is converted to seafloor deformation by applying the Okada model. \n",
    "\n",
    "See <http://clawpack.github.io/doc/dtopotools.html> for general documentation of these tools and their use in the context of GeoClaw, and <http://www.clawpack.org> for more information on the Clawpack suite of software."
   ]
  },
  {
   "cell_type": "markdown",
   "metadata": {},
   "source": [
    "## Contents\n",
    "\n",
    " - <a href=\"#csv\">Reading a csv file specifying the subfaults</a>\n",
    " - <a href=\"#plot-subfaults\">Plot the subfault geometry and slip</a>\n",
    " - <a href=\"#plot-dz\">Plot the seafloor displacement</a>\n",
    " - <a href=\"#create-dtopography\">Create the dtopo file needed by GeoClaw</a>\n",
    " - <a href=\"#read-dtopo\">Read in an existing dtopo file</a>\n",
    " - <a href=\"#sift\">Create a fault using the NOAA SIFT database directly</a>\n",
    " - <a href=\"#time-dep\">Time-dependent fault rupture</a>\n"
   ]
  },
  {
   "cell_type": "markdown",
   "metadata": {},
   "source": [
    "### Setup notebook and environment:"
   ]
  },
  {
   "cell_type": "code",
   "execution_count": null,
   "metadata": {},
   "outputs": [],
   "source": [
    "%pylab inline"
   ]
  },
  {
   "cell_type": "code",
   "execution_count": null,
   "metadata": {},
   "outputs": [],
   "source": [
    "from clawpack.geoclaw import dtopotools, topotools\n",
    "import os\n",
    "CLAW = os.environ['CLAW']\n",
    "datadir = os.path.join(CLAW,'geoclaw','scratch') # directory for some sample data files"
   ]
  },
  {
   "cell_type": "markdown",
   "metadata": {},
   "source": [
    "<div id=\"csv\"></div>\n",
    "\n",
    "## Reading a csv file specifying the subfaults\n",
    "\n",
    "Read in a csv file where the first line labels the columns and the remaining lines give the parameters for each subfault. This is a model of the 1964 Alaska earthquake using 12 subfaults from the NOAA SIFT database of unit sources.  \n",
    "\n",
    "See <http://nctr.pmel.noaa.gov/propagation-database.html> and\n",
    "[gica2937.pdf](http://www.pmel.noaa.gov/pubs/PDF/gica2937/gica2937.pdf).\n",
    "\n",
    "The full database is available at <http://sift.pmel.noaa.gov/ComMIT/compressed/info_sz.dat> and a later example in this notebook illustrates using the *dtopotools.SiftFault* class to access this directly.  But this example shows how a csv file can be specified.  The first line labels the columns with standard attributes needed to specify each subfault. "
   ]
  },
  {
   "cell_type": "markdown",
   "metadata": {},
   "source": [
    "Here is the raw file:"
   ]
  },
  {
   "cell_type": "code",
   "execution_count": null,
   "metadata": {},
   "outputs": [],
   "source": [
    "subfault_fname = 'data/alaska1964.csv'\n",
    "print(open(subfault_fname).read())"
   ]
  },
  {
   "cell_type": "markdown",
   "metadata": {},
   "source": [
    "Note that the last column has the name of the unit source from the NOAA SIFT database and will be ignored.  The other columns have labels that are expected.  Specify the units used for each and the coordinate system for the (longitude,latitude) and depth when reading the file in:"
   ]
  },
  {
   "cell_type": "code",
   "execution_count": null,
   "metadata": {},
   "outputs": [],
   "source": [
    "input_units = {\"length\":\"km\", \"width\":\"km\", \"depth\":\"km\", \"slip\":\"m\"}\n",
    "fault = dtopotools.CSVFault()\n",
    "fault.read(subfault_fname, input_units=input_units, coordinate_specification=\"noaa sift\")"
   ]
  },
  {
   "cell_type": "markdown",
   "metadata": {},
   "source": [
    "You could skip directly to <a href=\"#create-dtopography\">Create the dtopo file needed by GeoClaw</a>, but first we'll explore this fault model a bit..."
   ]
  },
  {
   "cell_type": "markdown",
   "metadata": {},
   "source": [
    "The Seismic moment `Mo` and Moment Magnitude `Mw` can be computed using the `Fault` class methods:"
   ]
  },
  {
   "cell_type": "code",
   "execution_count": null,
   "metadata": {},
   "outputs": [],
   "source": [
    "print(\"The seismic moment is %g N-m\" % fault.Mo())\n",
    "print(\"The Moment magnitude is %g\" % fault.Mw())\n",
    "print(\"  (Assuming the rigidity mu of all subfaults is the default value %g Pa)\"\\\n",
    "      % fault.subfaults[0].mu)"
   ]
  },
  {
   "cell_type": "markdown",
   "metadata": {},
   "source": [
    "<div id=\"plot-subfaults\"></div>\n",
    "### Plot the subfault geometry and slip\n",
    "\n",
    "First with a vector showing the rake (direction of slip):"
   ]
  },
  {
   "cell_type": "code",
   "execution_count": null,
   "metadata": {},
   "outputs": [],
   "source": [
    "fault.plot_subfaults(plot_rake=True)"
   ]
  },
  {
   "cell_type": "markdown",
   "metadata": {},
   "source": [
    "Plot again showing the magnitude of slip on each subfault:"
   ]
  },
  {
   "cell_type": "code",
   "execution_count": null,
   "metadata": {},
   "outputs": [],
   "source": [
    "fault.plot_subfaults(slip_color=True)"
   ]
  },
  {
   "cell_type": "markdown",
   "metadata": {},
   "source": [
    "Plot the coastline by downloading a file containing the x-y coordinates of shorelines based on etopo 4 minute data:"
   ]
  },
  {
   "cell_type": "code",
   "execution_count": null,
   "metadata": {},
   "outputs": [],
   "source": [
    "from clawpack.clawutil.data import get_remote_file\n",
    "filename = 'pacific_shorelines_east_4min.npy'\n",
    "url = 'http://www.geoclaw.org/topo/' + filename\n",
    "get_remote_file(url=url, output_dir=datadir, force=True, verbose=True)\n",
    "shorelines_file = os.path.join(datadir, filename)"
   ]
  },
  {
   "cell_type": "code",
   "execution_count": null,
   "metadata": {},
   "outputs": [],
   "source": [
    "fault.plot_subfaults()\n",
    "shore = load(shorelines_file)\n",
    "plot(shore[:,0], shore[:,1], 'g')\n",
    "axis([170,240,40,65])\n",
    "gca().set_aspect(1./cos(55*pi/180.))"
   ]
  },
  {
   "cell_type": "markdown",
   "metadata": {},
   "source": [
    "<div id=\"create-dtopography\"></div>\n",
    "### Create the dtopo file needed by GeoClaw:"
   ]
  },
  {
   "cell_type": "markdown",
   "metadata": {},
   "source": [
    "Generate a dtopo grid by applying the Okada model to each subfault.  First we need to specify the region over which the seafloor deformation should be specified and the resolution of the grid:"
   ]
  },
  {
   "cell_type": "code",
   "execution_count": null,
   "metadata": {},
   "outputs": [],
   "source": [
    "xlower = 203.5\n",
    "xupper = 214.  # approximate - adjusted below\n",
    "ylower = 54.5\n",
    "yupper = 60.  # approximate - adjusted below\n",
    "\n",
    "# dtopo parameters:\n",
    "points_per_degree = 60  # 1 minute resolution\n",
    "dx = 1./points_per_degree\n",
    "mx = int((xupper - xlower)/dx + 1)\n",
    "xupper = xlower + (mx-1)*dx\n",
    "my = int((yupper - ylower)/dx + 1)\n",
    "yupper = ylower + (my-1)*dx\n",
    "\n",
    "x = linspace(xlower,xupper,mx)\n",
    "y = linspace(ylower,yupper,my)"
   ]
  },
  {
   "cell_type": "markdown",
   "metadata": {},
   "source": [
    "Now apply Okada to create the static deformation at a single time $t = 1$ second:"
   ]
  },
  {
   "cell_type": "code",
   "execution_count": null,
   "metadata": {},
   "outputs": [],
   "source": [
    "dtopo = fault.create_dtopography(x,y,times=[1.], verbose=True)"
   ]
  },
  {
   "cell_type": "markdown",
   "metadata": {},
   "source": [
    "We can save this deformation as a `dtopo` file with various `dtopo_type`s recognized by GeoClaw.  The most compact is `dtopo_type==3`, which specifies a header followed by all the `dZ` data:"
   ]
  },
  {
   "cell_type": "code",
   "execution_count": null,
   "metadata": {},
   "outputs": [],
   "source": [
    "dtopo_fname = os.path.join(datadir, 'alaska1964.tt3')\n",
    "dtopo.write(dtopo_fname, dtopo_type=3)"
   ]
  },
  {
   "cell_type": "markdown",
   "metadata": {},
   "source": [
    "Read the file in and print just the header.  (The remaining lines contain all the data.)"
   ]
  },
  {
   "cell_type": "code",
   "execution_count": null,
   "metadata": {},
   "outputs": [],
   "source": [
    "lines = open(dtopo_fname).readlines()\n",
    "for k in range(9):\n",
    "    print(lines[k][:-1])"
   ]
  },
  {
   "cell_type": "markdown",
   "metadata": {},
   "source": [
    "<div id=\"plot-dz\"></div>\n",
    "### Plot the seafloor displacement"
   ]
  },
  {
   "cell_type": "code",
   "execution_count": null,
   "metadata": {},
   "outputs": [],
   "source": [
    "dtopo.plot_dZ_colors(t=1)\n",
    "\n",
    "# add shoreline and Anchorage for orientation:\n",
    "plot(shore[:,0], shore[:,1], 'g')\n",
    "plot([210.1],[61.2],'ro')\n",
    "text(210.3,61.5,'Anchorage')\n",
    "axis([xlower,xupper,ylower,62])"
   ]
  },
  {
   "cell_type": "markdown",
   "metadata": {},
   "source": [
    "<div id=\"read-dtopo\"></div>\n",
    "\n",
    "## Read in an existing dtopo file:\n",
    "\n",
    "An existing dtopo file can be read in for plotting purposes or to further manipulate it.  To illustrate, we read in the file we just created..."
   ]
  },
  {
   "cell_type": "code",
   "execution_count": null,
   "metadata": {},
   "outputs": [],
   "source": [
    "dtopo2 = dtopotools.DTopography()\n",
    "dtopo2.read(dtopo_fname, dtopo_type=3)\n",
    "\n",
    "# Check that this data looks right:\n",
    "assert len(dtopo2.x) == 631,  \"*** length of x is wrong\"\n",
    "assert len(dtopo2.y) == 331,  \"*** length of y is wrong\"\n",
    "dz_max = abs(dtopo2.dZ).max()\n",
    "assert abs(dz_max - 15.368266081250006) < 1e-5,  \"*** dz_max is wrong: %g\" % dz_max\n",
    "print(\"Looks ok\")"
   ]
  },
  {
   "cell_type": "markdown",
   "metadata": {},
   "source": [
    "<div id=\"sift\"></div>\n",
    "\n",
    "## Create a fault using the NOAA SIFT database directly\n",
    "\n",
    "The example above showed how to read a csv file with arbitrary columns.  Since this particular fault is actually specified in terms of the NOAA SIFT unit sources, another option to create the same fault is to use the *dtopotools.SiftFault* class, which takes as an argument a dictionary *sift_slip* specifying the unit sources to be used and the slip on each.  \n",
    "\n",
    "To illustrate, here we specify only the northern two and southern two unit sources from the example above, but with a dictionary of 12 unit sources we could recreate the full fault."
   ]
  },
  {
   "cell_type": "code",
   "execution_count": null,
   "metadata": {},
   "outputs": [],
   "source": [
    "sift_slips = {'acsza31':19.5, 'acszb31':19.5, 'acsza36':34.5, 'acszb36':34.5}\n",
    "f2 = dtopotools.SiftFault(sift_slips)\n",
    "f2.plot_subfaults(slip_color=True)"
   ]
  },
  {
   "cell_type": "markdown",
   "metadata": {},
   "source": [
    "<div id=\"time-dep\"></div>\n",
    "\n",
    "## Time-dependent fault rupture\n",
    "\n",
    "This is synthetic data -- the same set of faults as before but with rupture occuring from south to north. Note that new columns `rupture_time` and `rise_time` have been added."
   ]
  },
  {
   "cell_type": "code",
   "execution_count": null,
   "metadata": {},
   "outputs": [],
   "source": [
    "subfault_fname = 'data/timedep.csv'\n",
    "print(open(subfault_fname).read())"
   ]
  },
  {
   "cell_type": "markdown",
   "metadata": {},
   "source": [
    "Read in this csv file and set the parameters for the desired dtopo file:"
   ]
  },
  {
   "cell_type": "code",
   "execution_count": null,
   "metadata": {},
   "outputs": [],
   "source": [
    "input_units = {\"length\":\"km\", \"width\":\"km\", \"depth\":\"km\", \n",
    "               \"slip\":\"m\", \"mu\":\"dyne/cm^2\"}\n",
    "\n",
    "fault = dtopotools.CSVFault()\n",
    "fault.read(subfault_fname, input_units=input_units, \n",
    "           coordinate_specification=\"noaa sift\")\n",
    "fault.rupture_type = 'dynamic'\n",
    "\n",
    "print(\"%s subfaults read in \" % len(fault.subfaults))\n",
    "\n",
    "xlower = 203.5\n",
    "xupper = 214.\n",
    "ylower = 54.5\n",
    "yupper = 60.\n",
    "xylim = [xlower,xupper,ylower,yupper]\n",
    "\n",
    "# dtopo parameters:\n",
    "points_per_degree = 60   # 1 minute resolution\n",
    "mx = int((xupper - xlower)*points_per_degree + 1)\n",
    "my = int((yupper - ylower)*points_per_degree + 1)\n",
    "x = linspace(xlower,xupper,mx)\n",
    "y = linspace(ylower,yupper,my)\n",
    "print(\"dZ arrays will have shape %s by %s\" % (len(y),len(x)))\n"
   ]
  },
  {
   "cell_type": "markdown",
   "metadata": {},
   "source": [
    "Specify the desired output times, in this case 6 times between $t=0$ and $t=13$, when the rupture motion is complete.  Then apply the Okada model at each time (to the set of all subfaults with slips computed at each time based on the `rupture_time` and `rise_time` for that subfault).  Then `dtopo.dZ` will be a 3 dimensional array where each field at 6 different time points will be represented:"
   ]
  },
  {
   "cell_type": "code",
   "execution_count": null,
   "metadata": {},
   "outputs": [],
   "source": [
    "times = linspace(0,13,6)\n",
    "dtopo = fault.create_dtopography(x,y,times=times)\n",
    "print(\"Created array of dtopo deformations with shape\", dtopo.dZ.shape)"
   ]
  },
  {
   "cell_type": "markdown",
   "metadata": {},
   "source": [
    "### Create an animation of the fault rupture\n",
    "\n",
    "First define a function that will show time-dependent slip on the fault planes and resulting time-dependent seafloor motion in two side-by-side axes in the same figure:"
   ]
  },
  {
   "cell_type": "code",
   "execution_count": null,
   "metadata": {},
   "outputs": [],
   "source": [
    "# for setting color scale:\n",
    "print(\"maximum abs(dz) over the full rupture time:\", \\\n",
    "    abs(dtopo.dZ).max())\n",
    "\n",
    "# Read in shoreline segments to give context in plots:\n",
    "#shoreline_fname = os.path.join(datadir,'tohoku_shoreline_1min.npy')\n",
    "#shoreline_xy = load(shoreline_fname)\n",
    "shoreline_xy = shore\n",
    "\n",
    "# Incorporate this function in dtopotools to replace animate_dz_colors?\n",
    "def plot_subfaults_dZ(t, fig):\n",
    "    fig.clf()\n",
    "    ax1 = fig.add_subplot(121)\n",
    "    ax2 = fig.add_subplot(122)\n",
    "    fault.plot_subfaults(axes=ax1, slip_color=True, \n",
    "                         slip_time=t, xylim=xylim)\n",
    "    dtopo.plot_dZ_colors(axes=ax2, t=t, cmax_dZ=dz_max)\n",
    "    ax1.plot(shoreline_xy[:,0],shoreline_xy[:,1],'g')\n",
    "    ax2.plot(shoreline_xy[:,0],shoreline_xy[:,1],'g')\n",
    "    ax2.set_xlim(xlower,xupper)\n",
    "    ax2.set_ylim(ylower,yupper)\n",
    "    return fig\n"
   ]
  },
  {
   "cell_type": "markdown",
   "metadata": {},
   "source": [
    "The loop below makes each plot and then saves it as a png file:"
   ]
  },
  {
   "cell_type": "code",
   "execution_count": null,
   "metadata": {},
   "outputs": [],
   "source": [
    "from clawpack.visclaw.JSAnimation import IPython_display\n",
    "import clawpack.visclaw.JSAnimation.JSAnimation_frametools as J\n",
    "plotdir = '_plots'\n",
    "J.make_plotdir(plotdir, clobber=True)\n",
    "fig = plt.figure(figsize=(12,5))\n",
    "\n",
    "for k,t in enumerate(times):\n",
    "    plot_subfaults_dZ(t,fig)\n",
    "    J.save_frame(k, verbose=True)\n",
    "    \n",
    "print(\"Final frame will be displayed below:\")"
   ]
  },
  {
   "cell_type": "markdown",
   "metadata": {},
   "source": [
    "Combine the png files into an animation and display it:"
   ]
  },
  {
   "cell_type": "code",
   "execution_count": null,
   "metadata": {},
   "outputs": [],
   "source": [
    "anim = J.make_anim(plotdir)\n",
    "anim"
   ]
  },
  {
   "cell_type": "code",
   "execution_count": null,
   "metadata": {},
   "outputs": [],
   "source": []
  }
 ],
 "metadata": {
  "kernelspec": {
   "display_name": "Python 2",
   "language": "python",
   "name": "python2"
  },
  "language_info": {
   "codemirror_mode": {
    "name": "ipython",
    "version": 3
   },
   "file_extension": ".py",
   "mimetype": "text/x-python",
   "name": "python",
   "nbconvert_exporter": "python",
   "pygments_lexer": "ipython3",
   "version": "3.5.2"
  }
 },
 "nbformat": 4,
 "nbformat_minor": 1
}
