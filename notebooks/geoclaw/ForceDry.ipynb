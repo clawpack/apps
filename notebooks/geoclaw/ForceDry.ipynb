{
 "cells": [
  {
   "cell_type": "markdown",
   "metadata": {},
   "source": [
    "# Force Cells to be Dry Initially\n",
    "\n",
    "\n",
    "This [Jupyter notebook](http://www.jupyter.org) can be found in this [collection of Clawpack apps](http://www.clawpack.org/apps.html) as the file [`$CLAW/apps/notebooks/geoclaw/ForceDry.ipynb`](https://github.com/clawpack/apps/tree/master/notebooks/geoclaw/ForceDry.ipynb). To run this notebook, [install Clawpack](http://www.clawpack.org/installing.html), and clone the [apps repository](https://github.com/clawpack/apps). A static view of this and other notebooks can be found in the [Clawpack Gallery of Jupyter notebooks](http://www.clawpack.org/gallery/notebooks.html)."
   ]
  },
  {
   "cell_type": "markdown",
   "metadata": {},
   "source": [
    "The [MarchingFront.ipynb](MarchingFront.ipynb) notebook illustrated tools to select points from a topography DEM that satisfy given constraints on elevation, and how this can be used to determine dry land behind dikes.\n",
    "\n",
    "In this notebook we explore this more and show how to define an array that can be read into GeoClaw and used when initializing the water depth during the creation of new grid patches. \n",
    "\n",
    "See also the documentation page [Force Cells to be Dry Initially](http://www.clawpack.org/force_dry.html).\n",
    "\n",
    "We define an rectangular array `force_dry_init` that is aligned with cell centers of the computational grid at some resolution (typically the finest resolution) and that has the value `force_dry_init[i,j] = 1` to indicate cells that should be initialized to dry (`h[i,j] = 0`) regardless of the value of the GeoClaw topography `B[i,j]` in this cell.   If `force_dry_init[i,j] = 0` the the cell is initialized in the usual manner, which generally means \n",
    "\n",
    "`h[i,j] = max(0, sea_level - B[i,j])`.\n",
    "\n",
    "Notes:\n",
    "\n",
    "- Another new feature allows initializing the depth so that the surface elevation `eta` is spatially varying rather than using a single scalar value `sea_level` everywhere.  That feature is described in [VariableEtaInit.ipynb](VariableEtaInit.ipynb).  If used in conjunction with a `force_dry_init` array, `force_dry_init[i,j] = 1` still indicates that the cell should be dry while elsewhere the \"usual\" thing is done.\n",
    "\n",
    "- In the project archived at [IslandWhidbeyTHA_2019 project webpage](http://depts.washington.edu/ptha/IslandSkagitTHA_2019/), rather than a `force_dry_init` array, the masking array was called `allow_wet_init` with the meaning of 0 and 1 reversed. However, it seems more sensible to have the default be the \"usual\" initialization since the  `force_dry_init` array may only cover a subset of the computational domain where the special initialization is required.\n",
    "\n",
    "- The current implementation allows only one `force_dry_init` array but ideally this would be generalized to allow multiple arrays covering different subsets of the domain, and maybe at different grid resolutions?\n",
    "\n",
    "- Typically the `force_dry_init` array is computed from a DEM file at the desired resolution, using the marching front algorithm defined in [MarchingFront.ipynb](MarchingFront.ipynb). But recall that the GeoClaw topography value `B[i,j]` does not agree with the DEM value `Z[i,j]` even if the cell center is aligned with the DEM point due to the way `B` is computed by averaging over piecewise bilinear functions that interpolate the `Z` values.  So one has to be careful not to set `force_dry_init[i,j] = 1` in a cell close to the shore simply because `Z > 0` at this point since the `B` value might be negative in the cell.  This is dealt with in the examples below by doing some buffering."
   ]
  },
  {
   "cell_type": "markdown",
   "metadata": {},
   "source": [
    "# Contents\n",
    "  \n",
    "- [Sample topography from a 1/3 arcsecond DEM](#topo)\n",
    "- [Creating the `force_dry_init` array](#creating_fdry)\n",
    "- [Create file to read into GeoClaw](#fdry_file)\n",
    "- [Usage in GeoClaw Fortran code](#fdry_geoclaw)"
   ]
  },
  {
   "cell_type": "markdown",
   "metadata": {},
   "source": [
    "<div id=\"examples\"></div>\n",
    "\n",
    "## Examples\n",
    "\n",
    "First import some needed modules and set up color maps."
   ]
  },
  {
   "cell_type": "code",
   "execution_count": null,
   "metadata": {},
   "outputs": [],
   "source": [
    "%matplotlib inline"
   ]
  },
  {
   "cell_type": "code",
   "execution_count": null,
   "metadata": {},
   "outputs": [],
   "source": [
    "from pylab import *\n",
    "import os,sys\n",
    "from numpy import ma # masked arrays\n",
    "import PIL, urllib\n",
    "from clawpack.visclaw import colormaps, plottools\n",
    "from clawpack.amrclaw import region_tools\n",
    "from clawpack.geoclaw import topotools, marching_front"
   ]
  },
  {
   "cell_type": "code",
   "execution_count": null,
   "metadata": {},
   "outputs": [],
   "source": [
    "zmin = -60.\n",
    "zmax = 40.\n",
    "\n",
    "land_cmap = colormaps.make_colormap({ 0.0:[0.1,0.4,0.0],\n",
    "                                     0.25:[0.0,1.0,0.0],\n",
    "                                      0.5:[0.8,1.0,0.5],\n",
    "                                      1.0:[0.8,0.5,0.2]})\n",
    "\n",
    "sea_cmap = colormaps.make_colormap({ 0.0:[0,0,1], 1.:[.8,.8,1]})\n",
    "\n",
    "cmap, norm = colormaps.add_colormaps((land_cmap, sea_cmap),\n",
    "                                     data_limits=(zmin,zmax),\n",
    "                                     data_break=0.)\n",
    "                                     \n",
    "sea_cmap_dry = colormaps.make_colormap({ 0.0:[1.0,0.7,0.7], 1.:[1.0,0.7,0.7]})\n",
    "cmap_dry, norm_dry = colormaps.add_colormaps((land_cmap, sea_cmap_dry),\n",
    "                                     data_limits=(zmin,zmax),\n",
    "                                     data_break=0.)"
   ]
  },
  {
   "cell_type": "markdown",
   "metadata": {},
   "source": [
    "<div id=\"topo\"></div>\n",
    "\n",
    "## Sample topography from a 1/3 arcsecond DEM\n",
    "\n",
    "We consider a small region on the SW coast of Whidbey Island north of Maxwelton Beach as an example, as was used in [MarchingFront.ipynb](MarchingFront.ipynb)."
   ]
  },
  {
   "cell_type": "code",
   "execution_count": null,
   "metadata": {},
   "outputs": [],
   "source": [
    "url = 'http://www.clawpack.org/gallery/_static/figures/Whidbey1.png'\n",
    "Whidbey1_png = array(PIL.Image.open(urllib.request.urlopen(url)))\n",
    "extent = [-122.46, -122.38, 47.93, 47.96]\n",
    "\n",
    "figure(figsize=(12,6))\n",
    "imshow(Whidbey1_png, extent=extent)\n",
    "gca().set_aspect(1./cos(48*pi/180.))"
   ]
  },
  {
   "cell_type": "markdown",
   "metadata": {},
   "source": [
    "We read this small portion of the 1/3 arcsecond Puget Sound DEM, available from the NCEI thredds server:"
   ]
  },
  {
   "cell_type": "code",
   "execution_count": null,
   "metadata": {},
   "outputs": [],
   "source": [
    "path = 'https://www.ngdc.noaa.gov/thredds/dodsC/regional/puget_sound_13_mhw_2014.nc'\n",
    "topo = topotools.read_netcdf(path, extent=extent)"
   ]
  },
  {
   "cell_type": "markdown",
   "metadata": {},
   "source": [
    "Plot the topo we downloaded:"
   ]
  },
  {
   "cell_type": "code",
   "execution_count": null,
   "metadata": {},
   "outputs": [],
   "source": [
    "figure(figsize=(12,6))\n",
    "plottools.pcolorcells(topo.X, topo.Y, topo.Z, cmap=cmap, norm=norm)\n",
    "colorbar(extend='both')\n",
    "gca().set_aspect(1./cos(48*pi/180.))"
   ]
  },
  {
   "cell_type": "markdown",
   "metadata": {},
   "source": [
    "This plot shows that there is a region with elevation below MHW (0 in the DEM) where the Google Earth image shows wetland that should not be initialized as a lake. We repeat the code used in [MarchingFront.ipynb](MarchingFront.ipynb) to identify dry land below MHW:"
   ]
  },
  {
   "cell_type": "code",
   "execution_count": null,
   "metadata": {},
   "outputs": [],
   "source": [
    "wet_points = marching_front.select_by_flooding(topo.Z, Z1=-5., Z2=0., max_iters=None)\n",
    "\n",
    "Zdry = ma.masked_array(topo.Z, wet_points)\n",
    "\n",
    "figure(figsize=(12,6))\n",
    "plottools.pcolorcells(topo.X, topo.Y, Zdry, cmap=cmap, norm=norm)\n",
    "colorbar(extend='both')\n",
    "gca().set_aspect(1./cos(48*pi/180.))\n",
    "title('Dry land colored, ocean white');"
   ]
  },
  {
   "cell_type": "markdown",
   "metadata": {},
   "source": [
    "Now the blue region above is properly identified as being dry land.\n",
    "\n",
    "The colors are misleading, so here's a way to plot with the dry land that is below MHW colored pink to distinguish it from the water better:"
   ]
  },
  {
   "cell_type": "code",
   "execution_count": null,
   "metadata": {},
   "outputs": [],
   "source": [
    "# Create a version of topo.Z with all wet points masked out:\n",
    "mask_dry = logical_not(wet_points)\n",
    "Z_dry = ma.masked_array(topo.Z, wet_points) \n",
    "\n",
    "# Create a version of topo.Z with only dry points below MHW masked out:\n",
    "mask_dry_onshore = logical_and(mask_dry, topo.Z<0.)\n",
    "Z_allow_wet= ma.masked_array(topo.Z, mask_dry_onshore)\n",
    "\n",
    "figure(figsize=(10,12))\n",
    "\n",
    "# first plot all dry points as pink:\n",
    "plottools.pcolorcells(topo.X, topo.Y, Z_dry, cmap=cmap_dry, norm=norm_dry)\n",
    "\n",
    "# then plot colored by topography except at dry points below MHW:\n",
    "plottools.pcolorcells(topo.X, topo.Y, Z_allow_wet, cmap=cmap, norm=norm)\n",
    "\n",
    "gca().set_aspect(1./cos(48*pi/180.))\n",
    "ticklabel_format(useOffset=False)\n",
    "xticks(rotation=20);"
   ]
  },
  {
   "cell_type": "markdown",
   "metadata": {},
   "source": [
    "<div id=\"creating_fdry\"></div>\n",
    "\n",
    "## Creating the `force_dry_init` array\n",
    "\n",
    "The array `wet_points` generated above has the value 1 at DEM points identified as wet and 0 at points identified as dry, so if we set "
   ]
  },
  {
   "cell_type": "code",
   "execution_count": null,
   "metadata": {},
   "outputs": [],
   "source": [
    "dry_points = 1 - wet_points"
   ]
  },
  {
   "cell_type": "markdown",
   "metadata": {},
   "source": [
    "then `dry_points[i,j] = 1` at the DEM points determined to be dry.   We do not necessarily want to force the GeoClaw cell to be dry however at all these dry points, because the GeoClaw topography value `B` may be slightly negative even if the DEM value `Z` was positive at the same point, due to the way `B` is computed, and so this might force some cells near the shore to have `h = 0` even though `B < 0`.\n",
    "\n",
    "Instead we will set `force_dry_init[i,j] = 1` only if `dry_points[i,j] = 1` and the same is true of all its 8 nearest neighbors.  This avoids problems near the proper shoreline while forcing cells inland to be dry where they should be.\n",
    "\n",
    "We also assume it is fine to set `force_dry_init[i,j] = 0` around the boundary of the grid on which `dry_points` has been defined, so that the usual GeoClaw procedure is used to initialize these points.  If there are points at the boundary that must be forced to be dry that we should have started with a large grid patch.\n",
    "\n",
    "So we can accomplish this by summing the `dry_points` array over 3x3 blocks and setting `force_dry_init[i,j] = 1` only at points where this sum is 9:"
   ]
  },
  {
   "cell_type": "code",
   "execution_count": null,
   "metadata": {},
   "outputs": [],
   "source": [
    "dry_points_sum = dry_points[1:-1,1:-1] + dry_points[0:-2,1:-1] + dry_points[2:,1:-1] + \\\n",
    "                 dry_points[1:-1,0:-2] + dry_points[0:-2,0:-2] + dry_points[2:,0:-2] + \\\n",
    "                 dry_points[1:-1,2:] + dry_points[0:-2,2:] + dry_points[2:,2:]\n",
    "        \n",
    "# initialize array to 0 everywhere:\n",
    "force_dry_init = zeros(dry_points.shape)\n",
    "# reset in interior to 1 if all points in the 3x3 block around it are dry:\n",
    "force_dry_init[1:-1,1:-1] = where(dry_points_sum == 9, 1, 0)"
   ]
  },
  {
   "cell_type": "markdown",
   "metadata": {},
   "source": [
    "If we use `1-force_dry_init` as a mask then we see only the points forced to be dry:"
   ]
  },
  {
   "cell_type": "code",
   "execution_count": null,
   "metadata": {},
   "outputs": [],
   "source": [
    "Zdry = ma.masked_array(topo.Z, 1-force_dry_init)\n",
    "\n",
    "figure(figsize=(12,6))\n",
    "plottools.pcolorcells(topo.X, topo.Y, Zdry, cmap=cmap, norm=norm)\n",
    "colorbar(extend='both')\n",
    "gca().set_aspect(1./cos(48*pi/180.))\n",
    "title('Colored points have force_dry_init==1');"
   ]
  },
  {
   "cell_type": "markdown",
   "metadata": {},
   "source": [
    "This looks a lot like the plot above where we masked with `wet_points`.  However, if we plot `dry_points - force_dry_init` we see that this is not identically zero -- and there are points along the shore and the boundaries where the point was identified as dry but will not be forced to be dry:"
   ]
  },
  {
   "cell_type": "code",
   "execution_count": null,
   "metadata": {},
   "outputs": [],
   "source": [
    "figure(figsize=(12,6))\n",
    "plottools.pcolorcells(topo.X, topo.Y, dry_points - force_dry_init, \n",
    "                      cmap=colormaps.white_red)\n",
    "colorbar()\n",
    "gca().set_aspect(1./cos(48*pi/180.))\n",
    "axis([-122.461, -122.379, 47.929, 47.961]) # expanded domain\n",
    "title('Points with dry_points - force_dry_init==1')"
   ]
  },
  {
   "cell_type": "markdown",
   "metadata": {},
   "source": [
    "<div id='fdry_file'></div>\n",
    "\n",
    "## Create file to read into GeoClaw\n",
    "\n",
    "The array `force_dry_init` can now be saved in the same format as topo files, using `topo_type=3` and specifying `Z_format='%1i'` so that the data values from the array, which are all either 0 or 1, are printed as single digits to help reduce the file size.\n",
    "\n",
    "Note we also use the new convenience fuction `set_xyZ` introduced in `topotools.Topography`."
   ]
  },
  {
   "cell_type": "code",
   "execution_count": null,
   "metadata": {},
   "outputs": [],
   "source": [
    "force_dry_init_topo = topotools.Topography()\n",
    "force_dry_init_topo.set_xyZ(topo.x, topo.y, force_dry_init)\n",
    "\n",
    "# Old way of setting x,y,Z:\n",
    "#force_dry_init_topo._x = topo.x\n",
    "#force_dry_init_topo._y = topo.y     \n",
    "#force_dry_init_topo._Z = force_dry_init\n",
    "#force_dry_init_topo.generate_2d_coordinates()\n",
    "\n",
    "fname_force_dry_init = 'force_dry_init.data'\n",
    "force_dry_init_topo.write(fname_force_dry_init, topo_type=3, Z_format='%1i')\n",
    "print('Created %s' % fname_force_dry_init)"
   ]
  },
  {
   "cell_type": "markdown",
   "metadata": {},
   "source": [
    "As usual, the first 6 lines of this file are the header, which is then followed by the data:"
   ]
  },
  {
   "cell_type": "code",
   "execution_count": null,
   "metadata": {},
   "outputs": [],
   "source": [
    "lines = open(fname_force_dry_init).readlines()\n",
    "for line in lines[:6]:\n",
    "    print(line.strip())"
   ]
  },
  {
   "cell_type": "markdown",
   "metadata": {},
   "source": [
    "<div id='fdry_geoclaw'></div>\n",
    "\n",
    "## Usage in GeoClaw Fortran code\n",
    "\n",
    "To use a `force_dry_init.data` file of the sort created above, when setting up a GeoClaw run the `setrun.py` file must be modified to indicate the name of this file along with a time `tend`.  The array is used when initializing new grid patches only if `t < tend`, so this time should be set to a time after the finest grids are initialized, but before the tsunami arrives.\n",
    "\n",
    "For example, `examples/geoclaw_whidbey1` uses the `force_dry_init.data` created above (or equivalenty by the notebook `MakeInputFiles_Whidbey1.ipynb` in that directory) and the `setrun.py` file includes:\n",
    "\n",
    "```\n",
    "    import data_Qinit # from new_python for now, \n",
    "                      # eventually will be merged into geoclaw.data\n",
    "    force_dry = data_Qinit.ForceDry()\n",
    "    force_dry.tend = 15*60.\n",
    "    force_dry.fname = 'input_files/force_dry_init.data'\n",
    "    rundata.qinit_data.force_dry_list.append(force_dry)\n",
    "```"
   ]
  },
  {
   "cell_type": "markdown",
   "metadata": {},
   "source": [
    "This is illustrated in the examples found in `examples/geoclaw_test1` and `examples/geoclaw_whidbey1`."
   ]
  },
  {
   "cell_type": "markdown",
   "metadata": {},
   "source": [
    "# Internal GeoClaw modifications\n",
    "\n",
    "The following files in `geoclaw/src/2d/shallow` needed to be modified to handle the `force_dry_init` array:\n",
    "\n",
    "- `setprob.f90` to read in a parameter indicating that there is such an array,\n",
    "- `qinit_module.f90` with code to read the array,\n",
    "- `qinit.f90` to initialize dry land properly at the initial time,\n",
    "- `filpatch.f90` to initialize new grid patches properly at later times,\n",
    "- `filval.f90` to initialize new grid patches properly at later times.\n",
    "\n",
    "The `force_dry_init` array is used when initializing new patches only if:\n",
    "\n",
    "- The resolution of the patch agrees with that of the `force_dry_init` array, and it is then assumed that the points in the array are aligned with cell centers on the patch.\n",
    "- The simulation time `t` is less than `t_stays_dry`, a time set to be after the relevant level is introduced in the region of interest but before the main tsunami wave has arrived.  At later times the tsunami may have gotten a region wet even if `force_dry_init` indicates is should be initially dry."
   ]
  },
  {
   "cell_type": "code",
   "execution_count": null,
   "metadata": {},
   "outputs": [],
   "source": []
  }
 ],
 "metadata": {
  "kernelspec": {
   "display_name": "Python 3 (ipykernel)",
   "language": "python",
   "name": "python3"
  },
  "language_info": {
   "codemirror_mode": {
    "name": "ipython",
    "version": 3
   },
   "file_extension": ".py",
   "mimetype": "text/x-python",
   "name": "python",
   "nbconvert_exporter": "python",
   "pygments_lexer": "ipython3",
   "version": "3.10.13"
  }
 },
 "nbformat": 4,
 "nbformat_minor": 4
}
