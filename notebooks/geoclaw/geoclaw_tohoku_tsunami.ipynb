{
 "metadata": {
  "name": ""
 },
 "nbformat": 3,
 "nbformat_minor": 0,
 "worksheets": [
  {
   "cells": [
    {
     "cell_type": "heading",
     "level": 2,
     "metadata": {},
     "source": [
      "Quick start guide for tsunami modeling"
     ]
    },
    {
     "cell_type": "markdown",
     "metadata": {},
     "source": [
      "This is a brief outline of how to set up and run GeoClaw to model a real event, with pointers to various useful data sources.  It is based off of the GeoClaw example located in `$CLAW/geoclaw/examples/tsunami/chile2010` which through this tutorial we will convert into a code for modeling the Great Tohoku Tsunami of March 11th, 2011."
     ]
    },
    {
     "cell_type": "heading",
     "level": 3,
     "metadata": {},
     "source": [
      "Preliminary Setup"
     ]
    },
    {
     "cell_type": "markdown",
     "metadata": {},
     "source": [
      "Set the environment variable CLAW used by the Fortran Makefile:"
     ]
    },
    {
     "cell_type": "code",
     "collapsed": false,
     "input": [
      "import os\n",
      "CLAW = os.environ['CLAW'] \n",
      "print CLAW"
     ],
     "language": "python",
     "metadata": {},
     "outputs": []
    },
    {
     "cell_type": "markdown",
     "metadata": {},
     "source": [
      "Make sure we're in the right directory:"
     ]
    },
    {
     "cell_type": "code",
     "collapsed": false,
     "input": [
      "example_dir = os.getcwd()\n",
      "print example_dir"
     ],
     "language": "python",
     "metadata": {},
     "outputs": []
    },
    {
     "cell_type": "markdown",
     "metadata": {},
     "source": [
      "Here we import some modules we will use below.  Here we import NumPy, matplotlib and some tools for reading in topography data."
     ]
    },
    {
     "cell_type": "code",
     "collapsed": false,
     "input": [
      "%pylab inline\n",
      "import numpy\n",
      "import matplotlib.pyplot as plt\n",
      "import clawpack.geoclaw.topotools as topotools"
     ],
     "language": "python",
     "metadata": {},
     "outputs": []
    },
    {
     "cell_type": "markdown",
     "metadata": {},
     "source": [
      "Fetch data files needed for this example."
     ]
    },
    {
     "cell_type": "code",
     "collapsed": false,
     "input": [
      "%run get_bathy.py"
     ],
     "language": "python",
     "metadata": {},
     "outputs": []
    },
    {
     "cell_type": "heading",
     "level": 2,
     "metadata": {},
     "source": [
      "Bathymetry and Topography Sources"
     ]
    },
    {
     "cell_type": "markdown",
     "metadata": {},
     "source": [
      "You need one or more files that contain both bathymetry and topography on a single rectangular grid of points (generally in lat-long coordinates). Bathymetry is underwater topography. Here (and in the code) we refer to both as topo. In general these files have negative values of z to indicate distance below sea level for bathymetry, and positive values of z to indicate height above sea level on shore. But some files have these switched. See Topography data for more details on the formats GeoClaw can handle.\n",
      "\n",
      "You probably need two types of topo files: fairly coarse resolution over a large area of an ocean, and finer scale over one or more small regions: those where you want to model inundation and perhaps also for the source region where the tsunami was generated.\n",
      "\n",
      "Coarse-scale topo can be obtained from various on-line databases. The easiest is the [NGDC GEODAS Design-a-grid](http://www.ngdc.noaa.gov/mgg/gdas/gd_designagrid.html) website. Simply type in the latitude and longitude of the edges of the region you need.\n",
      "\n",
      "Typically 4 arc-minute or even 10-minute resolution is sufficient for tsunami propagation across the ocean. Recall that 1 degree of latitude is 111 km and 1 degree of longitude is about the same at the equator, so 4 minutes is roughly 7.5 km. You can also select 1- or 2-minute data.\n",
      "\n",
      "For this tutorial the topography has already been fetched and downloaded.  The data consists of two files, the coarse file `npacific.tt2` and a finer region file `hawaii.tt2`.  The first coarse topography file covers the region from 115 E to 30 W and from 15 N to 50 N at a resolution of 10-minutes which should be .  The second centered on Hawaii covers the region defined by 161 W to 153 W and 18 N to 23 N at 1-minute resolution which should be 481 by 301.  \n",
      "\n",
      "Lets try and plot the bathymetry we have available.  Here is a small function that plots the data in one of the data files we have.  It uses a mask to apply a different colormap each to the below sea-level topography (bathymetry) and the above sea-level topography."
     ]
    },
    {
     "cell_type": "code",
     "collapsed": false,
     "input": [
      "topo = topotools.Topography('./npacific.tt3')\n",
      "topo.plot(fig_kwargs={\"figsize\":(16,6)}, coastlines=False)"
     ],
     "language": "python",
     "metadata": {},
     "outputs": []
    },
    {
     "cell_type": "code",
     "collapsed": false,
     "input": [
      "topo = topotools.Topography('./hawaii.tt3')\n",
      "topo.plot(fig_kwargs={\"figsize\":(10,6)}, coastlines=True)"
     ],
     "language": "python",
     "metadata": {},
     "outputs": []
    },
    {
     "cell_type": "heading",
     "level": 2,
     "metadata": {},
     "source": [
      "Setting up the Data"
     ]
    },
    {
     "cell_type": "markdown",
     "metadata": {},
     "source": [
      "GeoClaw uses data objects to define input parameters.  The local file `setrun.py` contains two functions that sets these parameters.  Here we import the local `setrun.py` file and have it set all the default values we will use."
     ]
    },
    {
     "cell_type": "code",
     "collapsed": false,
     "input": [
      "import setrun\n",
      "rundata = setrun.setrun()"
     ],
     "language": "python",
     "metadata": {},
     "outputs": []
    },
    {
     "cell_type": "markdown",
     "metadata": {},
     "source": [
      "The `rundata` object contains a number of specific data objects controlling various aspects of a GeoClaw run.  Here's a list of all the attributes available in our `rundata` object:"
     ]
    },
    {
     "cell_type": "code",
     "collapsed": false,
     "input": [
      "rundata.attributes()"
     ],
     "language": "python",
     "metadata": {},
     "outputs": []
    },
    {
     "cell_type": "markdown",
     "metadata": {},
     "source": [
      "The important objects here all have \"data\" in their name.  Lets first look at `clawdata`."
     ]
    },
    {
     "cell_type": "code",
     "collapsed": false,
     "input": [
      "rundata.clawdata.attributes()"
     ],
     "language": "python",
     "metadata": {},
     "outputs": []
    },
    {
     "cell_type": "markdown",
     "metadata": {},
     "source": [
      "Many of these data values are named something that is hopefully helpful to understanding what they control.  Some important values in here are the lists `lower` and `upper` which define the lower and upper bounds of the domain.  In our case they are"
     ]
    },
    {
     "cell_type": "code",
     "collapsed": false,
     "input": [
      "print rundata.clawdata.lower\n",
      "print rundata.clawdata.upper"
     ],
     "language": "python",
     "metadata": {},
     "outputs": []
    },
    {
     "cell_type": "markdown",
     "metadata": {},
     "source": [
      "Uh oh, these values do not yet match the values we want for our domain.  Set them by doing the following:"
     ]
    },
    {
     "cell_type": "code",
     "collapsed": false,
     "input": [
      "rundata.clawdata.lower = [140, 15]\n",
      "rundata.clawdata.upper = [180 + 30, 50] "
     ],
     "language": "python",
     "metadata": {},
     "outputs": []
    },
    {
     "cell_type": "markdown",
     "metadata": {},
     "source": [
      "Note that we are not using the entire bathymetry we downloaded as we have set the lower longitude value to 140 rather than 115.  Another important value is the coarsest levels base resolution, controlled by the list num_cells.  Lets set that to have a resolution of 2 degrees:"
     ]
    },
    {
     "cell_type": "code",
     "collapsed": false,
     "input": [
      "rundata.clawdata.num_cells = [95, 35]"
     ],
     "language": "python",
     "metadata": {},
     "outputs": []
    },
    {
     "cell_type": "markdown",
     "metadata": {},
     "source": [
      "Lets set a couple more settings in the `clawdata` object that control the output times.  Here, the first value of interest is the type of output specification we want.  If `output_style` is set to 1 then we can specify an end time and the number of intermediate outputs we want.  Here lets output twice per hour for a total of 12 hours:"
     ]
    },
    {
     "cell_type": "code",
     "collapsed": false,
     "input": [
      "rundata.clawdata.output_style = 1\n",
      "rundata.clawdata.num_output_times = 24\n",
      "rundata.clawdata.tfinal = 3600.*12"
     ],
     "language": "python",
     "metadata": {},
     "outputs": []
    },
    {
     "cell_type": "heading",
     "level": 3,
     "metadata": {},
     "source": [
      "AMR Settings"
     ]
    },
    {
     "cell_type": "markdown",
     "metadata": {},
     "source": [
      "Next lets move on to the data that controls the AMR.  The data object of importance here is the `amrdata` object.  Lets see what attributes are available here:"
     ]
    },
    {
     "cell_type": "code",
     "collapsed": false,
     "input": [
      "rundata.amrdata.attributes()"
     ],
     "language": "python",
     "metadata": {},
     "outputs": []
    },
    {
     "cell_type": "markdown",
     "metadata": {},
     "source": [
      "Lets first change the maximum number of levels of refinement we will allow.  Lets set the number of levels of AMR we want and the refinement ratio between each level:"
     ]
    },
    {
     "cell_type": "code",
     "collapsed": false,
     "input": [
      "rundata.amrdata.amr_levels_max = 2\n",
      "rundata.amrdata.refinement_ratios_x = [4]\n",
      "rundata.amrdata.refinement_ratios_y = [4]\n",
      "rundata.amrdata.refinement_ratios_t = [4]"
     ],
     "language": "python",
     "metadata": {},
     "outputs": []
    },
    {
     "cell_type": "markdown",
     "metadata": {},
     "source": [
      "Here we have need only one ratio as we are only allowing 2 levels.  We could also set the ratios so that anisotropic refinement is allowed but lets not complicate things too much."
     ]
    },
    {
     "cell_type": "heading",
     "level": 3,
     "metadata": {},
     "source": [
      "Gauge Settings"
     ]
    },
    {
     "cell_type": "markdown",
     "metadata": {},
     "source": [
      "Gauges can be specified in GeoClaw by appending a list of values to a list in the `gaugedata` object.  Lets set a gauge at the location of DART buoy gauge [21401](http://www.ndbc.noaa.gov/station_page.php?station=21401):"
     ]
    },
    {
     "cell_type": "code",
     "collapsed": false,
     "input": [
      "# List of the form [gauge ID, longitude, latitude, t1, t2]\n",
      "rundata.gaugedata.gauges.append([21401, 152.583, 42.617,  1800., 1.e10])"
     ],
     "language": "python",
     "metadata": {},
     "outputs": []
    },
    {
     "cell_type": "markdown",
     "metadata": {},
     "source": [
      "Lets add one other gauge near Hawaii (DART gauge [51407](http://www.ndbc.noaa.gov/station_page.php?station=51407)).  Note that here we are asking the gauge not to output the entirety of the simulation:"
     ]
    },
    {
     "cell_type": "code",
     "collapsed": false,
     "input": [
      "rundata.gaugedata.gauges.append([51407, 203.484, 19.642, 3600*7., 1.e10])"
     ],
     "language": "python",
     "metadata": {},
     "outputs": []
    },
    {
     "cell_type": "heading",
     "level": 3,
     "metadata": {},
     "source": [
      "Topography Settings"
     ]
    },
    {
     "cell_type": "markdown",
     "metadata": {},
     "source": [
      "Lets finally tell GeoClaw to use the topography we were working with earlier.  The `topodata` object, similar to the `gaugedata` object, contains a list of the topography we would like to use and some parameters controlling their use.  Lets first add the coarse north Pacific topography file:"
     ]
    },
    {
     "cell_type": "code",
     "collapsed": false,
     "input": [
      "# List of the form [topotype, minlevel, maxlevel, t1, t2, fname]\n",
      "rundata.topo_data.topofiles = []\n",
      "rundata.topo_data.topofiles.append([3, 1, 3, 0., 1.e10, 'npacific.tt3'])"
     ],
     "language": "python",
     "metadata": {},
     "outputs": []
    },
    {
     "cell_type": "markdown",
     "metadata": {},
     "source": [
      "Here we set the data file type, the minimum and maximum levels we would like to have this bathymetry used one, the time interval to use it, and the name of the file.\n",
      "\n",
      "Simmilarly, lets add the finer bathymetry around Hawaii:"
     ]
    },
    {
     "cell_type": "code",
     "collapsed": false,
     "input": [
      "rundata.topo_data.topofiles.append([3, 1, 3, 0., 1.e10, 'hawaii.tt3'])"
     ],
     "language": "python",
     "metadata": {},
     "outputs": []
    },
    {
     "cell_type": "heading",
     "level": 3,
     "metadata": {},
     "source": [
      "Specifying the Earthquake"
     ]
    },
    {
     "cell_type": "markdown",
     "metadata": {},
     "source": [
      "We have one last input to specify before we are ready to run the code, the earthquake source itself.  In practice, the Okada model is often used to translate slip along one small fault plane into motion of the seafloor. This is essentially a Greens function solution to the problem of a point dislocation in an elastic half space, so it assumes the region of slip is small, the elastic parameters in the earth are constant, and the seafloor is flat. This may not be a great approximation, but given the uncertainty in the true elastic constants and the actual slip in an earthquake, it is generally considered to be accurate enough.\n",
      "\n",
      "In GeoClaw there are some Python tools in `$CLAW/geoclaw/src/python/geoclaw/okada.py` for applying the Okada model and creating dtopo files from given source parameters.  \n",
      "\n",
      "Lets look at the simpler Chile 2010 fault model we are going to swap out.  The file contains the following data\n",
      "```\n",
      "Fault_Width 100.e3\n",
      "Fault_Length 450.e3\n",
      "Slip_Angle 104.0\n",
      "Dip_Angle 14.0\n",
      "Strike_Direction 16.\n",
      "Dislocation 15.0\n",
      "Epicenter_Latitude -35.826\n",
      "Epicenter_Longitude -72.668\n",
      "Focal_Depth 35.e3\n",
      "mx 100\n",
      "my 100\n",
      "ylower -40.0\n",
      "yupper -30.0\n",
      "xlower -77.0\n",
      "xupper -67.0\n",
      "```\n",
      "This is a 450 km by 100 km fault plane with the length oriented at 16 degrees from north (the Strike_Direction). The fault plane is not horizontal but instead dips at 14 degrees from horizontal along the axis oriented with the length. The slip along this plane has a magnitude of 15 m (the Dislocation) and the slip is in the direction 104 degrees from the strike direction (the Slip_Angle, usually called the rake).\n",
      "\n",
      "The fault plane is 35 km below the surface.\n",
      "\n",
      "The last 6 lines specify the grid where the seafloor displacement should be specified in the resulting dtopo file. In this a 100 by 100 grid covering the region specified by the last four values.\n",
      "\n",
      "For our purposes we will use a subfault model from [UCSB](http://www.geol.ucsb.edu/faculty/ji/big_earthquakes/2011/03/0311_v3/Honshu.html) to create our sea-floor deformation.  This subfault model is much more complex than the one illustrated above.  Alternately we could also use the [USGS](http://earthquake.usgs.gov/earthquakes/eqinthenews/2011/usc0001xgp/finite_fault.php) fault model.\n",
      "\n",
      "To generate the actual deformation using the Okada model, we will use the python tool mentioned above."
     ]
    },
    {
     "cell_type": "code",
     "collapsed": false,
     "input": [
      "import clawpack.geoclaw.dtopotools as dtopotools\n",
      "reload(dtopotools)\n",
      "\n",
      "fault = dtopotools.UCSBFault('./usgs_honshu.subfault')\n",
      "fault.write(\"dtopo.tt3\")\n",
      "axes = fault.plot(coastlines='./npacific.tt3')\n",
      "fault.plot_fault_rect(axes=axes)\n",
      "\n",
      "print fault\n",
      "print fault.slip * fault.dimensions[0] * fault.dimensions[1]"
     ],
     "language": "python",
     "metadata": {},
     "outputs": []
    },
    {
     "cell_type": "code",
     "collapsed": false,
     "input": [
      "# Older way\n",
      "subfaults = dtopotools.read_subfault_model_ucsb('./usgs_honshu.subfault')\n",
      "\n",
      "lower = [140.76530, 35.61610]\n",
      "upper = [144.56380, 40.21080]\n",
      "dtopo_params = {'fname':'dtopo.tt3', \"mx\":60 * int(upper[0] - lower[0]) + 1, \n",
      "                                     \"my\":60 * int(upper[1] - lower[1]) + 1, \n",
      "                                     \"xlower\":lower[0], \"xupper\":upper[0], \n",
      "                                     \"ylower\":lower[1], \"yupper\":upper[1],\n",
      "                                     't0':0., 'tfinal':1., 'ntimes':2}\n",
      "dtopo_object = dtopotools.make_dtopo_from_subfaults(subfaults, dtopo_params)\n",
      "\n",
      "# dtopotools.plot_subfaults(subfaults, slip_color=True)\n",
      "for dZ in dtopo_object.dz_list:\n",
      "    dtopotools.plot_dz_colors(dtopo_object.x, dtopo_object.y, dZ)"
     ],
     "language": "python",
     "metadata": {},
     "outputs": []
    },
    {
     "cell_type": "code",
     "collapsed": false,
     "input": [
      "rundata.dtopo_data.dtopofiles = []\n",
      "rundata.dtopo_data.dtopofiles.append([3,3,3,'./dtopo.tt3'])"
     ],
     "language": "python",
     "metadata": {},
     "outputs": []
    },
    {
     "cell_type": "heading",
     "level": 3,
     "metadata": {},
     "source": [
      "Write Out the Data"
     ]
    },
    {
     "cell_type": "markdown",
     "metadata": {},
     "source": [
      "One last thing to do now that we have set all the data we wanted, write out the data to files that GeoClaw can read.  We just tell the `rundata` object to `write` and all the data objects it knows about will be written out."
     ]
    },
    {
     "cell_type": "code",
     "collapsed": false,
     "input": [
      "rundata.write()"
     ],
     "language": "python",
     "metadata": {},
     "outputs": []
    },
    {
     "cell_type": "markdown",
     "metadata": {},
     "source": [
      "## Building and Running the Code"
     ]
    },
    {
     "cell_type": "markdown",
     "metadata": {},
     "source": [
      "###Build the Code\n",
      "Here we simply call `make new` to build the code.  At this point you could set some environment variables to control how the code is built.  For instance, if you would like to include the OpenMP support, set `FFLAGS=-fopenmp`.  Here we will just use the default build options."
     ]
    },
    {
     "cell_type": "code",
     "collapsed": false,
     "input": [
      "import subprocess\n",
      "subprocess.Popen(\"make new\", shell=True).wait()"
     ],
     "language": "python",
     "metadata": {},
     "outputs": []
    },
    {
     "cell_type": "markdown",
     "metadata": {},
     "source": [
      "### Running the code"
     ]
    },
    {
     "cell_type": "markdown",
     "metadata": {},
     "source": [
      "Using the convenience function `runclaw` allows us to set various appropriate variables and run GeoClaw.  Most of the settings should be straight forward with the exception of perhaps the `restart` option.  Setting `restart` to `True` will restart the simulation at a specified time and requires other things to be set as detailed at http://clawpack.github.io/doc/restart.html."
     ]
    },
    {
     "cell_type": "code",
     "collapsed": false,
     "input": [
      "from clawpack.clawutil.runclaw import runclaw\n",
      "\n",
      "runclaw(xclawcmd='xgeoclaw', outdir='_output', overwrite=True, restart=False, rundir='.')"
     ],
     "language": "python",
     "metadata": {},
     "outputs": []
    },
    {
     "cell_type": "markdown",
     "metadata": {},
     "source": [
      "## Plotting Results"
     ]
    },
    {
     "cell_type": "markdown",
     "metadata": {},
     "source": [
      "The `setplot.py` file controls the basic plotting settings.  In order to get the basic plotting working we need to set the domain limits.  Lets import the basic `setplot.py` settings and set some basic variables."
     ]
    },
    {
     "cell_type": "code",
     "collapsed": false,
     "input": [
      "from clawpack.visclaw.data import ClawPlotData\n",
      "import setplot\n",
      "\n",
      "plotdir = '_plots'\n",
      "plotdata = ClawPlotData()\n",
      "plotdata = setplot.setplot(plotdata)\n",
      "plotdata.outdir = outdir\n",
      "plotdata.plotdir = plotdir"
     ],
     "language": "python",
     "metadata": {},
     "outputs": []
    },
    {
     "cell_type": "markdown",
     "metadata": {},
     "source": [
      "Lets make it so we can plot in the domain we have choosen.  First lets set the correct limits on the plots, this is not strictly necessary but the plots will look nicer if we do this explicitly."
     ]
    },
    {
     "cell_type": "code",
     "collapsed": false,
     "input": [
      "plotdata."
     ],
     "language": "python",
     "metadata": {},
     "outputs": []
    },
    {
     "cell_type": "heading",
     "level": 3,
     "metadata": {},
     "source": [
      "Plot one frame of the solution:"
     ]
    },
    {
     "cell_type": "code",
     "collapsed": false,
     "input": [
      "plotdata.plotframe(2); show()"
     ],
     "language": "python",
     "metadata": {},
     "outputs": []
    },
    {
     "cell_type": "heading",
     "level": 3,
     "metadata": {},
     "source": [
      "Adjust some plot parameters:"
     ]
    },
    {
     "cell_type": "code",
     "collapsed": false,
     "input": [
      "plotdata.showitems()"
     ],
     "language": "python",
     "metadata": {},
     "outputs": []
    },
    {
     "cell_type": "code",
     "collapsed": false,
     "input": [
      "plotitem = plotdata.getitem('ITEM1','AXES1','pcolor')\n",
      "plotitem.amr_patchedges_show = [1]  # show patch edges on all levels\n",
      "plotitem.amr_celledges_show = [1,0] # only show grid cells on coarsest level"
     ],
     "language": "python",
     "metadata": {},
     "outputs": []
    },
    {
     "cell_type": "heading",
     "level": 3,
     "metadata": {},
     "source": [
      "Plot several frames with the new parameters:"
     ]
    },
    {
     "cell_type": "code",
     "collapsed": false,
     "input": [
      "for frameno in range(4):\n",
      "    plotdata.plotframe(frameno)\n",
      "    show()\n"
     ],
     "language": "python",
     "metadata": {},
     "outputs": []
    },
    {
     "cell_type": "heading",
     "level": 3,
     "metadata": {},
     "source": [
      "Make png files for all frames, using original setplot function from setplot.py:"
     ]
    },
    {
     "cell_type": "markdown",
     "metadata": {},
     "source": [
      "Currently using plotpages.plotclaw_driver below screws up where output is printed.  We need to fix this, but for now save these for resetting later..."
     ]
    },
    {
     "cell_type": "code",
     "collapsed": false,
     "input": [
      "import sys\n",
      "sys_stdout = sys.stdout\n",
      "sys_stderr = sys.stderr"
     ],
     "language": "python",
     "metadata": {},
     "outputs": []
    },
    {
     "cell_type": "code",
     "collapsed": false,
     "input": [
      "#plotdata.setplot = False # to keep changes made above to plotdata\n",
      "plotdata.setplot = setplot.setplot # to use original setplot function\n",
      "plotdata.plotdir = plotdir"
     ],
     "language": "python",
     "metadata": {},
     "outputs": []
    },
    {
     "cell_type": "code",
     "collapsed": false,
     "input": [
      "from clawpack.visclaw import plotpages\n",
      "plotpages.plotclaw_driver(plotdata, verbose=False)\n",
      "sys.stdout = sys_stdout;  sys.stderr = sys_stderr"
     ],
     "language": "python",
     "metadata": {},
     "outputs": []
    },
    {
     "cell_type": "markdown",
     "metadata": {},
     "source": [
      "Note the figures displayed above are the final plots produced by plotpages (e.g. last frame)"
     ]
    },
    {
     "cell_type": "heading",
     "level": 3,
     "metadata": {},
     "source": [
      "One way to display a sequence of plot images as an animation:"
     ]
    },
    {
     "cell_type": "markdown",
     "metadata": {},
     "source": [
      "After creating all png files in the _plots directory..."
     ]
    },
    {
     "cell_type": "code",
     "collapsed": false,
     "input": [
      "import glob\n",
      "from matplotlib import image\n",
      "from clawpack.visclaw.JSAnimation import IPython_display\n",
      "from matplotlib import animation\n",
      "\n",
      "figno = 0\n",
      "fname = '_plots/*fig' + str(figno) + '.png'\n",
      "filenames=sorted(glob.glob(fname))\n",
      "\n",
      "fig = plt.figure()\n",
      "im = plt.imshow(image.imread(filenames[0]))\n",
      "def init():\n",
      "    im.set_data(image.imread(filenames[0]))\n",
      "    return im,\n",
      "\n",
      "def animate(i):\n",
      "    image_i=image.imread(filenames[i])\n",
      "    im.set_data(image_i)\n",
      "    return im,\n",
      "\n",
      "animation.FuncAnimation(fig, animate, init_func=init,\n",
      "                              frames=len(filenames), interval=20, blit=True)"
     ],
     "language": "python",
     "metadata": {},
     "outputs": []
    },
    {
     "cell_type": "heading",
     "level": 3,
     "metadata": {},
     "source": [
      "Explore the gauge output:\n"
     ]
    },
    {
     "cell_type": "code",
     "collapsed": false,
     "input": [
      "for gaugeno in [1,2]:\n",
      "    gauge = plotdata.getgauge(gaugeno)\n",
      "    q = gauge.q[0,:]\n",
      "    t = gauge.t\n",
      "    qmax = q.max()\n",
      "    tmax = t[q.argmax()]\n",
      "    print \"Gauge %s at %s has a maximum value of q = %7.5f at t = %7.5f\"  % (gaugeno, gauge.location, qmax, tmax)\n",
      "    plot(t,q,label=\"Gauge %s\" % gaugeno)\n",
      "legend()\n",
      "ylim(-0.1,1.1)\n",
      "xlabel('time')\n",
      "ylabel('q at gauge')\n",
      "title(\"Gauge output\")"
     ],
     "language": "python",
     "metadata": {},
     "outputs": []
    }
   ],
   "metadata": {}
  }
 ]
}