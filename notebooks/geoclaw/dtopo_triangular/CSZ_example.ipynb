{
 "cells": [
  {
   "cell_type": "markdown",
   "metadata": {},
   "source": [
    "# Generating dtopo files for CSZ fakequakes\n",
    "\n",
    "This notebooks demonstrates how the GeoClaw `dtopotools` module can be used to generate the dtopo file for a kinematic rupture specified on a set of triangular subfaults (available starting in Clawpack Version 5.5.0).  \n",
    "\n",
    "This uses one of the 1300 \"fakequake\" realizations from the paper\n",
    "\n",
    "- *Kinematic rupture scenarios and synthetic displacement data: An example application to the Cascadia subduction zone* by Diego Melgar, R. J. LeVeque, Douglas S. Dreger, Richard M. Allen,  J. Geophys. Res. -- Solid Earth 121 (2016), p. 6658. [doi:10.1002/2016JB013314](http://dx.doi.org/10.1002/2016JB013314). \n",
    "\n",
    "This requires `cascadia30.mshout` containing the geometry of the triangulated fault surface, from\n",
    "  https://github.com/dmelgarm/MudPy/blob/master/examples/fakequakes/3D/cascadia30.mshout\n",
    "\n",
    "It also requires a rupture scenario in the form of a `.rupt` file from the collection of fakequakes archived at  <https://zenodo.org/record/59943#.WgHuahNSxE4>.\n",
    "\n",
    "This sample uses one rupture scenario extracted from `data/cascadia.001297`."
   ]
  },
  {
   "cell_type": "markdown",
   "metadata": {},
   "source": [
    "### Version\n",
    "\n",
    "Animation revised 2020-07-26 to run with v5.7.0"
   ]
  },
  {
   "cell_type": "code",
   "execution_count": null,
   "metadata": {},
   "outputs": [],
   "source": [
    "%matplotlib inline"
   ]
  },
  {
   "cell_type": "code",
   "execution_count": null,
   "metadata": {},
   "outputs": [],
   "source": [
    "from clawpack.geoclaw import dtopotools\n",
    "import matplotlib.pyplot as plt\n",
    "from mpl_toolkits.mplot3d import Axes3D\n",
    "import numpy as np\n",
    "from copy import copy\n",
    "from clawpack.visclaw import animation_tools\n",
    "import os\n",
    "from IPython.display import HTML"
   ]
  },
  {
   "cell_type": "markdown",
   "metadata": {},
   "source": [
    "### Set up CSZ geometry"
   ]
  },
  {
   "cell_type": "code",
   "execution_count": null,
   "metadata": {},
   "outputs": [],
   "source": [
    "fault_geometry_file = './cascadia30.mshout'\n",
    "print('Reading fault geometry from %s' % fault_geometry_file)\n",
    "print('\\nHeader:\\n')\n",
    "print(open(fault_geometry_file).readline())"
   ]
  },
  {
   "cell_type": "code",
   "execution_count": null,
   "metadata": {},
   "outputs": [],
   "source": [
    "# read in .mshout (CSZ geoemetry)\n",
    "\n",
    "cascadia = np.loadtxt(fault_geometry_file,skiprows=1)\n",
    "cascadia[:,[3,6,9,12]] = 1e3*abs(cascadia[:,[3,6,9,12]])\n",
    "\n",
    "print('Loaded geometry for %i triangular subfaults' % cascadia.shape[0])"
   ]
  },
  {
   "cell_type": "markdown",
   "metadata": {},
   "source": [
    "For example, the first triangular fault in the given geometry of CSZ has the nodes"
   ]
  },
  {
   "cell_type": "code",
   "execution_count": null,
   "metadata": {},
   "outputs": [],
   "source": [
    "print(cascadia[0,4:7])\n",
    "print(cascadia[0,7:10])\n",
    "print(cascadia[0,10:13])"
   ]
  },
  {
   "cell_type": "markdown",
   "metadata": {},
   "source": [
    "### Plot the subfaults:"
   ]
  },
  {
   "cell_type": "markdown",
   "metadata": {},
   "source": [
    "Set up a fault model with these subfaults, without yet specifying a particular earthquake scenario. "
   ]
  },
  {
   "cell_type": "code",
   "execution_count": null,
   "metadata": {},
   "outputs": [],
   "source": [
    "fault0 = dtopotools.Fault()\n",
    "fault0.subfaults = []\n",
    "\n",
    "nsubfaults = cascadia.shape[0]\n",
    "\n",
    "for j in range(nsubfaults):\n",
    "    subfault0 = dtopotools.SubFault()\n",
    "    node1 = cascadia[j,4:7].tolist()\n",
    "    node2 = cascadia[j,7:10].tolist()\n",
    "    node3 = cascadia[j,10:13].tolist()\n",
    "    node_list = [node1,node2,node3]\n",
    "    subfault0.set_corners(node_list,projection_zone='10')\n",
    "    fault0.subfaults.append(subfault0)"
   ]
  },
  {
   "cell_type": "markdown",
   "metadata": {},
   "source": [
    "Now we can plot the triangular subplots:"
   ]
  },
  {
   "cell_type": "code",
   "execution_count": null,
   "metadata": {},
   "outputs": [],
   "source": [
    "fig = plt.figure(figsize=(15,10))\n",
    "#ax = fig.add_subplot(121, projection='3d')\n",
    "ax = fig.add_axes([.05,.05,.65,.9], projection='3d')\n",
    "for s in fault0.subfaults:\n",
    "    c = s.corners\n",
    "    c.append(c[0])\n",
    "    c = np.array(c)\n",
    "    ax.plot(c[:,0],c[:,1],-c[:,2]/1000.,color='b')\n",
    "ax.view_init(10,60)\n",
    "ax.set_xlabel('Longitude')\n",
    "ax.set_ylabel('Latitude')\n",
    "ax.set_zlabel('Depth (km)')\n",
    "ax.set_title('Triangular subfaults')\n",
    "\n",
    "#ax = fig.add_subplot(122)\n",
    "ax = fig.add_axes([.75,.05,.2,.9])\n",
    "for s in fault0.subfaults:\n",
    "    c = s.corners\n",
    "    c.append(c[0])\n",
    "    c = np.array(c)\n",
    "    ax.plot(c[:,0],c[:,1], 'b')\n",
    "ax.set_aspect(1./np.cos(45*np.pi/180.))\n",
    "ax.set_xlabel('Longitude')\n",
    "ax.set_ylabel('Latitude')\n",
    "ax.set_title('Plan view')"
   ]
  },
  {
   "cell_type": "markdown",
   "metadata": {},
   "source": [
    "### Rupture scenario"
   ]
  },
  {
   "cell_type": "markdown",
   "metadata": {},
   "source": [
    "We now read in rupture scenario, using data from [https://zenodo.org/record/59943#.WgHuahNSxE4]."
   ]
  },
  {
   "cell_type": "code",
   "execution_count": null,
   "metadata": {},
   "outputs": [],
   "source": [
    "rupt_fname = '_cascadia.001297.rupt'\n",
    "print(\"Reading earthquake data from %s\" % rupt_fname)\n",
    "rupture_parameters = np.loadtxt(rupt_fname,skiprows=1)"
   ]
  },
  {
   "cell_type": "markdown",
   "metadata": {},
   "source": [
    "This data is used to set the slip and rake on each of the subfaults loaded above.  Since this is a dynamic rupture, we also set the `rupture_time` and `rise_time` of each subfault."
   ]
  },
  {
   "cell_type": "code",
   "execution_count": null,
   "metadata": {},
   "outputs": [],
   "source": [
    "fault0 = dtopotools.Fault()\n",
    "fault0.subfaults = []\n",
    "fault0.rupture_type = 'kinematic'\n",
    "rake = 90. # assume same rake for all subfaults\n",
    "\n",
    "J = int(np.floor(cascadia.shape[0]))\n",
    "\n",
    "for j in range(J):\n",
    "    subfault0 = dtopotools.SubFault()\n",
    "    node1 = cascadia[j,4:7].tolist()\n",
    "    node2 = cascadia[j,7:10].tolist()\n",
    "    node3 = cascadia[j,10:13].tolist()\n",
    "    node_list = [node1,node2,node3]\n",
    "    \n",
    "    ss_slip = rupture_parameters[j,8]\n",
    "    ds_slip = rupture_parameters[j,9]\n",
    "    \n",
    "    rake = np.rad2deg(np.arctan2(ds_slip, ss_slip))\n",
    "    \n",
    "    subfault0.set_corners(node_list,projection_zone='10')\n",
    "    subfault0.rupture_time = rupture_parameters[j,12]\n",
    "    subfault0.rise_time = rupture_parameters[j,7]\n",
    "    subfault0.rake = rake\n",
    "\n",
    "    slip = np.sqrt(ds_slip ** 2 + ss_slip ** 2)\n",
    "    subfault0.slip = slip\n",
    "    fault0.subfaults.append(subfault0)"
   ]
  },
  {
   "cell_type": "markdown",
   "metadata": {},
   "source": [
    "### Compute seafloor deformations with GeoClaw \n",
    "\n",
    "We now run the ``create_dtopography`` routine to generate dynamic seafloor deformations at a given set of times.  This applies the Okada model to each of the subfaults and evaluates the surface displacement on the grid given by `x,y`, at each time. These are summed up over all subfaults to compute the total deformation."
   ]
  },
  {
   "cell_type": "code",
   "execution_count": null,
   "metadata": {},
   "outputs": [],
   "source": [
    "x,y = fault0.create_dtopo_xy(dx = 4/60.)\n",
    "print('Will create dtopo on arrays of shape %i by %i' % (len(x),len(y)))\n",
    "tfinal = max([subfault1.rupture_time + subfault1.rise_time for subfault1 in fault0.subfaults])\n",
    "times0 = np.linspace(0.,tfinal,100)\n",
    "dtopo0 = fault0.create_dtopography(x,y,times=times0,verbose=True);"
   ]
  },
  {
   "cell_type": "code",
   "execution_count": null,
   "metadata": {},
   "outputs": [],
   "source": [
    "x.shape,y.shape, dtopo0.dZ.shape"
   ]
  },
  {
   "cell_type": "code",
   "execution_count": null,
   "metadata": {},
   "outputs": [],
   "source": [
    "fig,(ax0,ax1,ax2, ax3) = plt.subplots(ncols=4,nrows=1,figsize=(16,6))\n",
    "fault0.plot_subfaults(axes=ax0,slip_color=True,plot_box=False);\n",
    "ax0.set_title('Slip on Fault');\n",
    "\n",
    "X = dtopo0.X; Y = dtopo0.Y; dZ_at_t = dtopo0.dZ_at_t\n",
    "dz_max = dtopo0.dZ.max()\n",
    "\n",
    "t0 = 0.25*tfinal    # time to plot deformation\n",
    "dtopotools.plot_dZ_colors(X,Y,dZ_at_t(t0),axes=ax1, \n",
    "                          cmax_dZ = dz_max, add_colorbar=False);\n",
    "ax1.set_title('Seafloor at time t=' + str(t0));\n",
    "\n",
    "t0 = 0.5*tfinal    # time to plot deformation\n",
    "dtopotools.plot_dZ_colors(X,Y,dZ_at_t(t0),axes=ax2,\n",
    "                          cmax_dZ = dz_max, add_colorbar=False);\n",
    "\n",
    "ax2.set_title('Seafloor at time t=' + str(t0));\n",
    "\n",
    "t0 = tfinal    # time to plot deformation\n",
    "dtopotools.plot_dZ_colors(X,Y,dZ_at_t(t0),axes=ax3,\n",
    "                          cmax_dZ = dz_max, add_colorbar=True);\n",
    "ax3.set_title('Seafloor at time t=' + str(t0));\n",
    "\n",
    "#fig.savefig('CSZ_triangular.png');"
   ]
  },
  {
   "cell_type": "markdown",
   "metadata": {},
   "source": [
    "### Plot the rupture time and rise time of each subfault\n",
    "\n",
    "This shows where the rupture originates and how it propagates outward. Each vertical bar shows the rupture time and duration of one subfault."
   ]
  },
  {
   "cell_type": "code",
   "execution_count": null,
   "metadata": {},
   "outputs": [],
   "source": [
    "plt.figure(figsize=(14,8))\n",
    "plt.axes()\n",
    "latitudes = [s.latitude for s in fault0.subfaults]\n",
    "rise_times = [s.rise_time for s in fault0.subfaults]\n",
    "rupture_times = [s.rupture_time for s in fault0.subfaults]\n",
    "for j,lat in enumerate(latitudes):\n",
    "    plt.plot([lat,lat],[rupture_times[j],rupture_times[j]+rise_times[j]],'b')\n",
    "plt.xlabel('latitude')\n",
    "plt.ylabel('seconds')\n",
    "plt.title('rupture time + rise time of each triangle vs. latitude')"
   ]
  },
  {
   "cell_type": "markdown",
   "metadata": {},
   "source": [
    "### Plot the deformation as a function of time at a few locations\n",
    "\n",
    "Same longitude, increasing latitude..."
   ]
  },
  {
   "cell_type": "code",
   "execution_count": null,
   "metadata": {},
   "outputs": [],
   "source": [
    "plt.figure(figsize=(10,9))\n",
    "for kk in range(5):\n",
    "    plt.subplot(5,1,kk+1)\n",
    "    j = 60\n",
    "    k = 50 + 25*kk\n",
    "    plt.title('dynamic deformation at fixed location (' + '{:4.2f}'.format(x[j]) \\\n",
    "                                                 + ',' + '{:4.2f}'.format(y[k]) + ')' )\n",
    "    plt.plot(dtopo0.times,dtopo0.dZ[:,k,j]);\n",
    "    plt.ylabel('dZ (meters)');\n",
    "    plt.xlabel('time (seconds)');\n",
    "plt.tight_layout()"
   ]
  },
  {
   "cell_type": "markdown",
   "metadata": {},
   "source": [
    "### Create a dtopo file for GeoClaw"
   ]
  },
  {
   "cell_type": "code",
   "execution_count": null,
   "metadata": {},
   "outputs": [],
   "source": [
    "ruptno = rupt_fname.split('.')[1]\n",
    "fname = 'cascadia' + ruptno + '.dtt3'\n",
    "dtopo0.write(fname, dtopo_type=3)"
   ]
  },
  {
   "cell_type": "code",
   "execution_count": null,
   "metadata": {},
   "outputs": [],
   "source": [
    "print('Created %s, with dynamic rupture of a Mw %.2f event' % (fname, fault0.Mw()))"
   ]
  },
  {
   "cell_type": "markdown",
   "metadata": {},
   "source": [
    "### Animate the rupture:\n",
    "\n",
    "This fails in v5.5.0 due to a typo that was later fixed in `clawpack/geoclaw` commit 9422715, and should be fixed in v5.6.0."
   ]
  },
  {
   "cell_type": "code",
   "execution_count": null,
   "metadata": {},
   "outputs": [],
   "source": [
    "dz_max = abs(dtopo0.dZ).max()\n",
    "\n",
    "# Incorporate this function in dtopotools to replace animate_dz_colors?\n",
    "def plot_subfaults_dZ(t, fig):\n",
    "    fig.clf()\n",
    "    ax1 = fig.add_subplot(121)\n",
    "    ax2 = fig.add_subplot(122)\n",
    "    fault0.plot_subfaults(axes=ax1, slip_color=True, plot_box=False,\n",
    "                          slip_time=t)\n",
    "    dtopo0.plot_dZ_colors(axes=ax2, t=t, cmax_dZ=dz_max)\n",
    "    return fig\n",
    "\n",
    "figs = []\n",
    "times = dtopo0.times[::5]   # only use every 5th time for animation\n",
    "if dtopo0.times[-1] not in times:\n",
    "    times = np.hstack((times, dtopo0.times[-1]))  # include final dz\n",
    "    \n",
    "print('Animation will include %i times' % len(times))\n",
    "for k,t in enumerate(times):\n",
    "    fig = plt.figure(figsize=(12,5))\n",
    "    plot_subfaults_dZ(t,fig)\n",
    "    figs.append(fig)\n",
    "    plt.close(fig)"
   ]
  },
  {
   "cell_type": "code",
   "execution_count": null,
   "metadata": {},
   "outputs": [],
   "source": [
    "anim = animation_tools.animate_figs(figs, figsize=(12,6))"
   ]
  },
  {
   "cell_type": "code",
   "execution_count": null,
   "metadata": {},
   "outputs": [],
   "source": [
    "HTML(anim.to_jshtml())"
   ]
  }
 ],
 "metadata": {
  "kernelspec": {
   "display_name": "Python 3 (ipykernel)",
   "language": "python",
   "name": "python3"
  },
  "language_info": {
   "codemirror_mode": {
    "name": "ipython",
    "version": 3
   },
   "file_extension": ".py",
   "mimetype": "text/x-python",
   "name": "python",
   "nbconvert_exporter": "python",
   "pygments_lexer": "ipython3",
   "version": "3.10.13"
  }
 },
 "nbformat": 4,
 "nbformat_minor": 4
}
