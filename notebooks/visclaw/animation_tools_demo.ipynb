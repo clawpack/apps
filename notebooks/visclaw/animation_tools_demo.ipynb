{
 "cells": [
  {
   "cell_type": "markdown",
   "metadata": {},
   "source": [
    "# Demonstrate animation_tools module"
   ]
  },
  {
   "cell_type": "markdown",
   "metadata": {},
   "source": [
    "This [Jupyter notebook](http://www.jupyter.org) can be found in this [collection of Clawpack apps](http://www.clawpack.org/apps.html) as the file [$CLAW/apps/notebooks/visclaw/animation_tools_demo.ipynb](https://github.com/clawpack/apps/tree/master/notebooks/visclaw/animation_tools_demo.ipynb).  \n",
    "To run this notebook, [install Clawpack](http://www.clawpack.org/installing.html), and download it from the link above, or clone the entire [apps repository](https://github.com/clawpack/apps).\n",
    "A static view of this and other notebooks can be found in the [Clawpack Gallery of Jupyter notebooks](http://www.clawpack.org/gallery/notebooks.html)."
   ]
  },
  {
   "cell_type": "markdown",
   "metadata": {},
   "source": [
    "This notebook demonstrates the tools in the `clawpack.visclaw.animation_tools` module (new in Version 5.4.0 and substantially updated in v5.7.0), which facilitates creating a list of figures or images and viewing them as an animation.  \n",
    "\n",
    "Several approaches are supported:\n",
    "\n",
    " - Using the `ipywidgets.interact` allows generating an interactive widget for sweeping through the frames.  This may be easiest to work with when running a notebook interactively, including when using <http://mybinder.org>.\n",
    " \n",
    " - Creating an animation as javascript in the notebook.  This can now be done directly using the `to_jshtml` method defined for an animation created using [matplotlib.animation](https://matplotlib.org/3.1.1/api/_as_gen/matplotlib.animation.Animation.html). \n",
    "   *Historical note:* this approach was first pioneered in Clawpack and developed further by Jake Vanderplas in his [JSAnimation](https://github.com/jakevdp/JSAnimation) package, later incorporated into matplotlib.\n",
    "\n",
    " - Alternatively the `to_html5_video` method can be used to create an mp4 video.\n",
    "\n",
    " - The `to_jshtml` versions can also be embedded in another webpage or in Sphinx documentation, using the `animation_tools.make_html` and `animation_tools.make_rst` functions.\n",
    " \n",
    "\n",
    "#### Converting frames in a Clawpack `_plots` directory to animations:\n",
    " \n",
    " The `animation_tools.make_anim_outputs_from_plotdir` function can be used to turn the png files in a Clawpack `_plots` directory into stand-alone `.html`, `.mp4`, or `.rst` files.\n",
    " \n",
    "All of these possibilities are illustrated below.\n"
   ]
  },
  {
   "cell_type": "code",
   "execution_count": null,
   "metadata": {},
   "outputs": [],
   "source": [
    "%pylab inline"
   ]
  },
  {
   "cell_type": "code",
   "execution_count": null,
   "metadata": {},
   "outputs": [],
   "source": [
    "from __future__ import print_function\n",
    "from ipywidgets import interact, interact_manual\n",
    "import ipywidgets\n",
    "import os\n",
    "import io\n",
    "import base64\n",
    "from IPython.display import display, FileLink, FileLinks, HTML"
   ]
  },
  {
   "cell_type": "code",
   "execution_count": null,
   "metadata": {},
   "outputs": [],
   "source": [
    "from clawpack.visclaw import animation_tools"
   ]
  },
  {
   "cell_type": "markdown",
   "metadata": {},
   "source": [
    "## Generate a set of figures to use for demos\n",
    "\n",
    "You can make figures however you want.  As they are created, append to a list called `figs`:"
   ]
  },
  {
   "cell_type": "code",
   "execution_count": null,
   "metadata": {},
   "outputs": [],
   "source": [
    "figs = []\n",
    "x = linspace(0,1,1000)\n",
    "\n",
    "for k in range(11):\n",
    "    fig = figure(figsize=(5,3))\n",
    "    plot(x, sin(2*pi*k*x), 'b')\n",
    "    ylim(-1.1,1.1)\n",
    "    title('$\\sin(2\\pi kx)$ for k = %s' % k)\n",
    "    figs.append(fig)\n",
    "    close(fig)"
   ]
  },
  {
   "cell_type": "markdown",
   "metadata": {},
   "source": [
    "## Animating using widgets\n",
    "\n",
    "IPywidgets are sometimes a nice way to animate a set of images.  But note that the widgets only work if you are running the notebook.  If you save it as an html file (e.g. to post on the web) then the widgets don't work. So if you are viewing a rendered version of this notebook, you won't see output for several of the cells below unless you download and run the notebook.\n",
    "\n",
    "A better approach is generally to embed the animation as javascript or an mp4 file, as discussed in the next section."
   ]
  },
  {
   "cell_type": "markdown",
   "metadata": {},
   "source": [
    "### Animating a list of figures\n",
    "\n",
    "The tool `animation_tools.interact_animate_figs` can be used to create an interact that loops over all the frames contained in a list of figures."
   ]
  },
  {
   "cell_type": "code",
   "execution_count": null,
   "metadata": {},
   "outputs": [],
   "source": [
    "animation_tools.interact_animate_figs(figs)"
   ]
  },
  {
   "cell_type": "markdown",
   "metadata": {},
   "source": [
    "Passing in the argument `manual=True` will use the widget `interact_manual` instead of `interact`.  This refrains from updating the image as you move the slider bar.  Instead you move the slider as desired and then click on the `Run` button to re-display the image.  This is useful if there are many frames and you want to be able to jump to around without all the intermediate frames being displayed, which can slow down the response significantly."
   ]
  },
  {
   "cell_type": "code",
   "execution_count": null,
   "metadata": {},
   "outputs": [],
   "source": [
    "animation_tools.interact_animate_figs(figs, manual=True)"
   ]
  },
  {
   "cell_type": "markdown",
   "metadata": {},
   "source": [
    "The argument `TextInput=True` can be specified to produce a text input cell rather than a slider bar:"
   ]
  },
  {
   "cell_type": "code",
   "execution_count": null,
   "metadata": {},
   "outputs": [],
   "source": [
    "animation_tools.interact_animate_figs(figs, manual=True, TextInput=True)"
   ]
  },
  {
   "cell_type": "markdown",
   "metadata": {},
   "source": [
    "### Animating a list of images\n",
    "\n",
    "The tool `animation_tools.interact_animate_images` can be used to create an interact that loops over all the frames contained in a list of images rather than figures. The images can be generated from a list of figures, as illustrated in the next cell.  Or they can be read in from a directory of png files, for example, as illustrated later.\n",
    "\n",
    "This function also takes the arguments `manual` and `TextInput` as described above, with default values `False`."
   ]
  },
  {
   "cell_type": "code",
   "execution_count": null,
   "metadata": {},
   "outputs": [],
   "source": [
    "images = animation_tools.make_images(figs)\n",
    "animation_tools.interact_animate_images(images, figsize=(6,3))"
   ]
  },
  {
   "cell_type": "markdown",
   "metadata": {},
   "source": [
    "## Inline animation as a movie\n",
    "\n",
    "A list of images can also be turned into a animation inline plot.  This is often preferable to using widgets. In particular, these movies are persistent if you export the notebook as an html file and can be played by anyone viewing the html file."
   ]
  },
  {
   "cell_type": "code",
   "execution_count": null,
   "metadata": {},
   "outputs": [],
   "source": [
    "images = animation_tools.make_images(figs)\n",
    "anim = animation_tools.animate_images(images, figsize=(6,3))"
   ]
  },
  {
   "cell_type": "markdown",
   "metadata": {},
   "source": [
    "### As javascript:"
   ]
  },
  {
   "cell_type": "code",
   "execution_count": null,
   "metadata": {},
   "outputs": [],
   "source": [
    "HTML(anim.to_jshtml())"
   ]
  },
  {
   "cell_type": "markdown",
   "metadata": {},
   "source": [
    "### As mp4 video\n",
    "\n",
    "Note that [ffmpeg](https://ffmpeg.org) must be installed in order to create an `mp4` file.  "
   ]
  },
  {
   "cell_type": "code",
   "execution_count": null,
   "metadata": {},
   "outputs": [],
   "source": [
    "HTML(anim.to_html5_video())"
   ]
  },
  {
   "cell_type": "markdown",
   "metadata": {},
   "source": [
    "### Stand-alone html file\n",
    "\n",
    "Alternatively, a separate stand-alone html page can be created with the JSAnimation.  This can be posted on the web for others to view, for example."
   ]
  },
  {
   "cell_type": "code",
   "execution_count": null,
   "metadata": {},
   "outputs": [],
   "source": [
    "file_name = 'SineFunctions.html'\n",
    "animation_tools.make_html(anim, file_name=file_name, title=\"Sine Functions\", \n",
    "                          raw_html=\"Illustration of html file created by <tt>make_html</tt>\")\n",
    "FileLink(file_name)"
   ]
  },
  {
   "cell_type": "markdown",
   "metadata": {},
   "source": [
    "### Stand-alone mp4 file"
   ]
  },
  {
   "cell_type": "code",
   "execution_count": null,
   "metadata": {},
   "outputs": [],
   "source": [
    "file_name = 'SineFunctions.mp4'\n",
    "animation_tools.make_mp4(anim, file_name=file_name)"
   ]
  },
  {
   "cell_type": "markdown",
   "metadata": {},
   "source": [
    "### reStructured text file\n",
    "\n",
    "You can also produce a `.rst` file containing the animation, which can be incorporated into Sphinx documentation:"
   ]
  },
  {
   "cell_type": "code",
   "execution_count": null,
   "metadata": {},
   "outputs": [],
   "source": [
    "file_name = 'SineFunctions.rst'\n",
    "animation_tools.make_rst(anim, file_name=file_name)"
   ]
  },
  {
   "cell_type": "markdown",
   "metadata": {},
   "source": [
    "## Create a directory of png files\n",
    "\n",
    "Sometimes it is useful to create a directory containing png files for each figure, or you might have such a directory generated by other means (e.g. from VisClaw).\n",
    "\n",
    "Here we create a directory named `_plots` to store png files for each frame:"
   ]
  },
  {
   "cell_type": "code",
   "execution_count": null,
   "metadata": {},
   "outputs": [],
   "source": [
    "plotdir = '_plots'\n",
    "animation_tools.make_plotdir(plotdir, clobber=True)"
   ]
  },
  {
   "cell_type": "markdown",
   "metadata": {},
   "source": [
    "You can create frames any way you wish and then use `animation_tools.save_frame` to save each one.  You can also explicitly call `savefig`, but then you should construct file names such that `glob.glob` can be used to return a list of filenames in the directory that are in the correct order for plotting as frames in an animation.  The `animation_tools.save_frame` creates names such as `frame00000.png` etc. as shown below.  The optional argument `fname_base` can be used to change `frame` to something else."
   ]
  },
  {
   "cell_type": "code",
   "execution_count": null,
   "metadata": {},
   "outputs": [],
   "source": [
    "x = linspace(0,1,1000)\n",
    "\n",
    "for k in range(5):\n",
    "    fig = figure(figsize=(6,3))\n",
    "    plot(x, cos(2*pi*k*x), 'b')\n",
    "    ylim(-1.1,1.1)\n",
    "    title('$\\cos(2\\pi kx)$ for k = %s' % k)\n",
    "    animation_tools.save_frame(k, verbose=True)\n",
    "    close(fig)"
   ]
  },
  {
   "cell_type": "code",
   "execution_count": null,
   "metadata": {},
   "outputs": [],
   "source": [
    "FileLinks(plotdir)"
   ]
  },
  {
   "cell_type": "markdown",
   "metadata": {},
   "source": [
    "Given such a directory of png files, we can read them in using `animation_tools.read_images` to produce a list of images:"
   ]
  },
  {
   "cell_type": "code",
   "execution_count": null,
   "metadata": {},
   "outputs": [],
   "source": [
    "cosine_images = animation_tools.read_images(plotdir='_plots', fname_pattern='frame*.png')\n",
    "print(\"Found %i images\" % len(cosine_images))"
   ]
  },
  {
   "cell_type": "markdown",
   "metadata": {},
   "source": [
    "The resulting list of images `new_images` can now be animated using any of the tools illustrated earlier, e.g."
   ]
  },
  {
   "cell_type": "code",
   "execution_count": null,
   "metadata": {},
   "outputs": [],
   "source": [
    "#animation_tools.interact_animate_images(cosine_images)\n",
    "anim = animation_tools.animate_images(cosine_images, figsize=(6,3))\n",
    "HTML(anim.to_jshtml())"
   ]
  },
  {
   "cell_type": "markdown",
   "metadata": {},
   "source": [
    "## Saving a list of figures or images\n",
    "\n",
    "If you already have a list of figures or images and wish to create a directory containing them, the utilities `animation_tools.save_figs` or `animation_tools.save_images` can be used.  For example:"
   ]
  },
  {
   "cell_type": "code",
   "execution_count": null,
   "metadata": {},
   "outputs": [],
   "source": [
    "kwargs = {'dpi':150}\n",
    "animation_tools.save_images(cosine_images, plotdir='cosine_images', fname_base='wavenumber', \n",
    "                            format='png', verbose=True, **kwargs)\n",
    "FileLinks('cosine_images')"
   ]
  },
  {
   "cell_type": "code",
   "execution_count": null,
   "metadata": {},
   "outputs": [],
   "source": [
    "reload_images = animation_tools.read_images(plotdir='cosine_images', fname_pattern='wavenumber*.png')\n",
    "animation_tools.interact_animate_images(reload_images)"
   ]
  },
  {
   "cell_type": "markdown",
   "metadata": {},
   "source": [
    "## Animate Clawpack results \n",
    "\n",
    "Finally we illustrate how plots in an existing `_plots` directory created using a Fortran version of Clawpack Classic, AMRClaw, or GeoClaw can be animated in the notebook.\n",
    "\n",
    "Here we assume the `plotdir` referenced below has already been created e.g. via `make .plots` at the command line.\n",
    "\n",
    "Also take a look at the `clawutil.nbtools` module for a set of tools that can be used to compile and run Clawpack and create plots from within a notebook.  These are illustrated in some of the other notebooks in this `apps` repository, in particular in [$CLAW/apps/notebooks/classic/advection_1d/advection_1d.ipynb](http://www.clawpack.org/gallery/_static/notebooks/classic/advection_1d/advection_1d.html)"
   ]
  },
  {
   "cell_type": "code",
   "execution_count": null,
   "metadata": {},
   "outputs": [],
   "source": [
    "plotdir = '../classic/advection_1d/_plots'"
   ]
  },
  {
   "cell_type": "code",
   "execution_count": null,
   "metadata": {},
   "outputs": [],
   "source": [
    "anim = animation_tools.animate_from_plotdir(plotdir, figno=1, figsize=(10,6))\n",
    "HTML(anim.to_jshtml())"
   ]
  },
  {
   "cell_type": "code",
   "execution_count": null,
   "metadata": {},
   "outputs": [],
   "source": []
  }
 ],
 "metadata": {
  "kernelspec": {
   "display_name": "Python 3 (ipykernel)",
   "language": "python",
   "name": "python3"
  },
  "language_info": {
   "codemirror_mode": {
    "name": "ipython",
    "version": 3
   },
   "file_extension": ".py",
   "mimetype": "text/x-python",
   "name": "python",
   "nbconvert_exporter": "python",
   "pygments_lexer": "ipython3",
   "version": "3.10.9"
  }
 },
 "nbformat": 4,
 "nbformat_minor": 4
}
