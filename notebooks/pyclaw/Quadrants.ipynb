{
 "cells": [
  {
   "cell_type": "markdown",
   "metadata": {},
   "source": [
    "# Two-dimensional compressible fluid dynamics example: Quadrants\n",
    "In this example, we solve the Euler equations with initial data consisting of a different state in each quadrant of the unit square.  The following block of code will compute the solution at 40 timeframes and should take 1-2 minutes to run."
   ]
  },
  {
   "cell_type": "code",
   "execution_count": null,
   "metadata": {
    "collapsed": false
   },
   "outputs": [],
   "source": [
    "from clawpack import pyclaw\n",
    "from clawpack import riemann\n",
    "\n",
    "claw = pyclaw.Controller()\n",
    "claw.tfinal = 0.6\n",
    "claw.num_output_times = 40\n",
    "\n",
    "riemann_solver = riemann.euler_4wave_2D\n",
    "claw.solver = pyclaw.ClawSolver2D(riemann_solver)\n",
    "claw.solver.all_bcs = pyclaw.BC.extrap\n",
    "\n",
    "grid_size = (300,300)\n",
    "domain = pyclaw.Domain( (0.,0.), (1.,1.), grid_size)\n",
    "\n",
    "claw.solution = pyclaw.Solution(claw.solver.num_eqn,domain)\n",
    "gam = 1.4\n",
    "claw.solution.problem_data['gamma']  = gam\n",
    "\n",
    "# Set initial data\n",
    "q = claw.solution.q\n",
    "xx,yy = domain.grid.p_centers\n",
    "l = xx<0.5; r = xx>=0.5; b = yy<0.5; t = yy>=0.5\n",
    "q[0,...] = 2.*l*t + 1.*l*b + 1.*r*t + 3.*r*b\n",
    "q[1,...] = 0.75*t - 0.75*b\n",
    "q[2,...] = 0.5*l  - 0.5*r\n",
    "q[3,...] = 0.5*q[0,...]*(q[1,...]**2+q[2,...]**2) + 1./(gam-1.)\n",
    "\n",
    "claw.keep_copy = True       # Keep solution data in memory for plotting\n",
    "claw.output_format = None   # Don't write solution data to file\n",
    "claw.solver.dt_initial=1.e99\n",
    "status = claw.run()"
   ]
  },
  {
   "cell_type": "markdown",
   "metadata": {},
   "source": [
    "## Plotting: single frame with Matplotlib"
   ]
  },
  {
   "cell_type": "code",
   "execution_count": null,
   "metadata": {
    "collapsed": false
   },
   "outputs": [],
   "source": [
    "%pylab inline\n",
    "\n",
    "frame = claw.frames[40]\n",
    "density = frame.q[0,:,:]\n",
    "(vx,vy) = np.gradient(density)\n",
    "vs = np.sqrt(vx**2 + vy**2)\n",
    "x, y = frame.state.grid.c_centers    \n",
    "\n",
    "plt.pcolormesh(x, y, vs, cmap='RdBu')\n",
    "plt.axis('image')"
   ]
  },
  {
   "cell_type": "markdown",
   "metadata": {},
   "source": [
    "## Plotting: animation\n",
    "Next we will plot an animation of all 40 frames, using matplotlib and Jake Vanderplas' JSAnimation code."
   ]
  },
  {
   "cell_type": "code",
   "execution_count": null,
   "metadata": {
    "collapsed": false
   },
   "outputs": [],
   "source": [
    "from matplotlib import animation\n",
    "import matplotlib.pyplot as plt\n",
    "from clawpack.visclaw.JSAnimation import IPython_display\n",
    "import numpy as np\n",
    "\n",
    "fig = plt.figure(figsize=[4,4])\n",
    "\n",
    "frame = claw.frames[0]\n",
    "density = frame.q[0,:,:]\n",
    "(vx,vy) = np.gradient(density)\n",
    "vs = np.sqrt(vx**2 + vy**2)\n",
    "\n",
    "x, y = frame.state.grid.c_centers    \n",
    "\n",
    "# This essentially does a pcolor plot, but it returns the appropriate object\n",
    "# for use in animation.  See http://matplotlib.org/examples/pylab_examples/pcolor_demo.html.\n",
    "# Note that it's necessary to transpose the data array because of the way imshow works.\n",
    "im = plt.imshow(vs.T, cmap='Greys', vmin=vs.min(), vmax=vs.max()/20,\n",
    "           extent=[x.min(), x.max(), y.min(), y.max()],\n",
    "           interpolation='nearest', origin='lower')\n",
    "\n",
    "def fplot(frame_number):\n",
    "    frame = claw.frames[frame_number]\n",
    "    density = frame.q[0,:,:]\n",
    "    (vx,vy) = np.gradient(density)\n",
    "    vs = np.sqrt(vx**2 + vy**2)\n",
    "    im.set_data(vs.T)\n",
    "    return im,"
   ]
  },
  {
   "cell_type": "code",
   "execution_count": null,
   "metadata": {
    "collapsed": false
   },
   "outputs": [],
   "source": [
    "animation.FuncAnimation(fig, fplot, frames=len(claw.frames), interval=20)"
   ]
  },
  {
   "cell_type": "markdown",
   "metadata": {},
   "source": [
    "## Plotting: zoomable, annotated plots with Plotly\n",
    "Plotly is a new web service that makes it possible (among many other things) to embed interactive plots in an IPython notebook."
   ]
  },
  {
   "cell_type": "code",
   "execution_count": null,
   "metadata": {
    "collapsed": false
   },
   "outputs": [],
   "source": [
    "import plotly\n",
    "un='jackp'\n",
    "k='11m2qbzob9'\n",
    "py = plotly.plotly(username_or_email=un, key=k)\n",
    "\n",
    "frame = claw.frames[40]\n",
    "density = frame.q[0,:,:]\n",
    "(vx,vy) = np.gradient(density)\n",
    "vs = np.sqrt(vx**2 + vy**2)\n",
    "\n",
    "# Note that it's necessary to transpose the data array because plotly's heatmap uses imshow.\n",
    "py.iplot({'z': vs.T, 'type':'heatmap'})"
   ]
  },
  {
   "cell_type": "markdown",
   "metadata": {},
   "source": [
    "## Plotting with VisClaw\n",
    "To plot with VisClaw, we must first define a setplot function:"
   ]
  },
  {
   "cell_type": "code",
   "execution_count": null,
   "metadata": {
    "collapsed": false
   },
   "outputs": [],
   "source": [
    "def setplot(plotdata):    \n",
    "    plotfigure = plotdata.new_plotfigure(name='Density', figno=0)\n",
    "    plotaxes = plotfigure.new_plotaxes()\n",
    "    plotaxes.title = 'Density'\n",
    "    plotaxes.scaled = True      # so aspect ratio is 1\n",
    "    plotitem = plotaxes.new_plotitem(plot_type='2d_schlieren')\n",
    "    plotitem.plot_var = 0    \n",
    "    return plotdata"
   ]
  },
  {
   "cell_type": "markdown",
   "metadata": {},
   "source": [
    "Now we can plot a single frame as follows (most of this code will be unnecessary in the next version):"
   ]
  },
  {
   "cell_type": "code",
   "execution_count": null,
   "metadata": {
    "collapsed": false
   },
   "outputs": [],
   "source": [
    "from clawpack.visclaw import data\n",
    "from clawpack.visclaw import frametools\n",
    "plotdata = data.ClawPlotData()\n",
    "plotdata.setplot = claw.setplot\n",
    "claw.plotdata = frametools.call_setplot(claw.setplot,plotdata)\n",
    "\n",
    "frame = claw.load_frame(40)\n",
    "claw.plot_frame(frame)"
   ]
  },
  {
   "cell_type": "markdown",
   "metadata": {},
   "source": [
    "VisClaw also has an interactive plotting loop capability.  However, that doesn't work well in the notebook, because no plot appears until you exit the loop, and then you only get the last plot."
   ]
  },
  {
   "cell_type": "code",
   "execution_count": null,
   "metadata": {
    "collapsed": false
   },
   "outputs": [],
   "source": [
    "claw.plot()"
   ]
  }
 ],
 "metadata": {
  "kernelspec": {
   "display_name": "Python 2",
   "language": "python",
   "name": "python2"
  },
  "language_info": {
   "codemirror_mode": {
    "name": "ipython",
    "version": 2
   },
   "file_extension": ".py",
   "mimetype": "text/x-python",
   "name": "python",
   "nbconvert_exporter": "python",
   "pygments_lexer": "ipython2",
   "version": "2.7.12"
  }
 },
 "nbformat": 4,
 "nbformat_minor": 0
}
