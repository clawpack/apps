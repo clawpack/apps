{
 "cells": [
  {
   "cell_type": "markdown",
   "metadata": {},
   "source": [
    "# Stegotons: solitary waves arising in non-dispersive periodic media\n",
    "A fascinating new class of solitary waves was discovered in [a 2003 paper by R.J. LeVeque and D. Yong](http://faculty.washington.edu/rjl/pubs/solitary/40815.pdf).  Solitary waves usually appear as solutions of nonlinear dispersive wave equations, like the KdV or NLS equations.  But the waves discovered by LeVeque and Yong arise in a system of nonlinear wave equations **with no dispersion!**  The nonlinear elasticity equations they investigated are:\n",
    "\\begin{align}\n",
    "\\epsilon_t(x,t) - u_x(x,t) & = 0 \\\\\n",
    "(\\rho(x) u(x,t))_t - \\sigma(\\epsilon(x,t),x)_x & = 0.\n",
    "\\end{align}\n",
    "They took the density $\\rho(x)$ and bulk modulus $K(x)$ to be periodic functions and the stress strain relation $\\sigma(\\epsilon,x)$ nonlinear (they used an exponential function, but any nonlinear function will work).\n",
    "\n",
    "If $\\rho$ and $K$ are chosen so that the impedance $Z = \\sqrt{\\rho K}$ varies in space, then waves undergo reflection on the fine scale.  Remarkably, the effect of these reflections is an effective behavior that mimics dispersion -- as [predicted already by Santosa & Symes in 1993](http://epubs.siam.org/doi/abs/10.1137/0151049).\n",
    "\n",
    "Here we reproduce some of their original experiments in PyClaw.  If you're interested in the simulations, all of the code is provided here and you can run it yourself.  If you're only interested in the results, feel free to just skip over the code."
   ]
  },
  {
   "cell_type": "code",
   "execution_count": null,
   "metadata": {
    "collapsed": false
   },
   "outputs": [],
   "source": [
    "from clawpack import riemann\n",
    "from clawpack import pyclaw\n",
    "import numpy as np\n",
    "\n",
    "riemann_solver = riemann.nonlinear_elasticity_fwave_1D\n",
    "solver = pyclaw.ClawSolver1D(riemann_solver)\n",
    "solver.fwave = True\n",
    "\n",
    "# Boundary conditions\n",
    "solver.bc_lower[0] = pyclaw.BC.extrap\n",
    "solver.bc_upper[0] = pyclaw.BC.extrap\n",
    "solver.aux_bc_lower[0] = pyclaw.BC.extrap\n",
    "solver.aux_bc_upper[0] = pyclaw.BC.extrap\n",
    "\n",
    "xlower=0.0; xupper=1000.0\n",
    "cells_per_layer=12; mx=int(round(xupper-xlower))*cells_per_layer\n",
    "x = pyclaw.Dimension(xlower,xupper,mx,name='x')\n",
    "domain = pyclaw.Domain(x)\n",
    "state = pyclaw.State(domain,solver.num_eqn,3)\n",
    "xc=state.grid.x.centers\n",
    "\n",
    "#Initialize q and aux\n",
    "KA    = 1.0; rhoA  = 1.0\n",
    "KB    = 4.0; rhoB  = 4.0\n",
    "xfrac = xc-np.floor(xc)\n",
    "\n",
    "state.aux[0,:] = rhoA*(xfrac<0.5)+rhoB*(xfrac>=0.5) #Density\n",
    "state.aux[1,:] = KA  *(xfrac<0.5)+KB  *(xfrac>=0.5) #Bulk modulus\n",
    "state.aux[2,:] = 0. # not used\n",
    "\n",
    "sigma = 0.5*np.exp(-((xc-500.)/5.)**2.)\n",
    "state.q[0,:] = np.log(sigma+1.)/state.aux[1,:]  # Strain\n",
    "state.q[1,:] = 0.                               # Momentum\n",
    "\n",
    "claw = pyclaw.Controller()\n",
    "claw.solution = pyclaw.Solution(state,domain)\n",
    "\n",
    "claw.output_style = 1\n",
    "claw.num_output_times = 100\n",
    "claw.tfinal =  550.\n",
    "claw.solver = solver\n",
    "claw.keep_copy = True\n",
    "claw.output_format = None"
   ]
  },
  {
   "cell_type": "markdown",
   "metadata": {},
   "source": [
    "Before running the simulation, let's take a quick look at the setup.  The initial condition (stored in `state.q`) is a Gaussian stress perturbation with zero velocity, while the impedance $Z(x)$ is piecewise constant and periodic.  Notice in the plot below that, though the stress is a Gaussian, the strain is discontinuous since the bulk modulus $K(x)$ is discontinuous.\n",
    "\n",
    "In each plot, the inset is a closeup of the central region."
   ]
  },
  {
   "cell_type": "code",
   "execution_count": null,
   "metadata": {
    "collapsed": false
   },
   "outputs": [],
   "source": [
    "import plotly\n",
    "py = plotly.plotly(username_or_email='DavidKetcheson', key='mgs2lgb203')\n",
    "\n",
    "data = [{'x':xc, 'y':state.q[0,:]},{'x':xc[5800:6200],'y':state.q[0,5800:6200],\"xaxis\":\"x2\",\"yaxis\":\"y2\"}]\n",
    "layout = {\"title\": \"$\\\\text{Strain }(\\epsilon)$\",'showlegend':False,    \"xaxis2\": {\"domain\": [0.6, 0.95],\"anchor\": \"y2\"},\n",
    "    \"yaxis2\":{\"domain\": [0.2, 0.6],\"anchor\": \"x2\"}}\n",
    "py.iplot(data,layout=layout)"
   ]
  },
  {
   "cell_type": "code",
   "execution_count": null,
   "metadata": {
    "collapsed": false
   },
   "outputs": [],
   "source": [
    "Z = np.sqrt(state.aux[0,:]*state.aux[1,:])\n",
    "data = [{'x':xc, 'y':Z},{'x':xc[5800:6200],'y':Z[5800:6200],\"xaxis\":\"x2\",\"yaxis\":\"y2\"}]\n",
    "layout = {\"title\": \"$\\\\text{Impedance }(Z)$\",'showlegend':False,    \"xaxis2\": {\"domain\": [0.6, 0.95],\"anchor\": \"y2\"},\n",
    "    \"yaxis2\":{\"domain\": [0.2, 0.6],\"anchor\": \"x2\"}}\n",
    "py.iplot(data,layout = layout)"
   ]
  },
  {
   "cell_type": "code",
   "execution_count": null,
   "metadata": {
    "collapsed": false
   },
   "outputs": [],
   "source": [
    "claw.run()"
   ]
  },
  {
   "cell_type": "code",
   "execution_count": null,
   "metadata": {
    "collapsed": false
   },
   "outputs": [],
   "source": [
    "%pylab inline\n",
    "from matplotlib import animation\n",
    "import matplotlib.pyplot as plt\n",
    "from clawpack.visclaw.JSAnimation import IPython_display\n",
    "\n",
    "fig = plt.figure(figsize=[8,4])\n",
    "ax = plt.axes(xlim=(xc[0], xc[-1]), ylim=(0, 0.4))\n",
    "line, = ax.plot([], [], lw=1)\n",
    "\n",
    "def fplot(i):\n",
    "    frame = claw.frames[i]\n",
    "    strain = frame.q[0,:]\n",
    "    line.set_data(xc, strain)\n",
    "    ax.set_title('Strain at t='+str(frame.t))\n",
    "    return line,\n",
    "\n",
    "animation.FuncAnimation(fig, fplot, frames=len(claw.frames))"
   ]
  },
  {
   "cell_type": "markdown",
   "metadata": {},
   "source": [
    "It's hard to see the details in the animated plot above.  Let's use Plotly to create a plot where we can zoom in:"
   ]
  },
  {
   "cell_type": "code",
   "execution_count": null,
   "metadata": {
    "collapsed": false
   },
   "outputs": [],
   "source": [
    "data = [{'x':xc, 'y':state.q[0,:]},{'x':xc[11000:11700],'y':state.q[0,11000:11700],\"xaxis\":\"x2\",\"yaxis\":\"y2\"}]\n",
    "layout = {\"title\": \"Strain ($\\epsilon$)\",'showlegend':False,\"xaxis2\": {\"domain\": [0.4, 0.85],\"anchor\": \"y2\"},\n",
    "    \"yaxis2\":{\"domain\": [0.15, 0.65],\"anchor\": \"x2\"}}\n",
    "\n",
    "py.iplot(data, layout=layout)"
   ]
  },
  {
   "cell_type": "markdown",
   "metadata": {},
   "source": [
    "It's easy to see why these waves were dubbed *stegotons*: they're solitary waves that resemble the back of a stegosaurus!"
   ]
  },
  {
   "cell_type": "markdown",
   "metadata": {},
   "source": [
    "## Making the simulation more efficient with a custom boundary condition and a before_step function\n",
    "\n",
    "It's clear that the initial pulse is breaking up into a train of waves, but we'd like to study their behavior over longer periods of time, when the solitary waves separate completely.  A nice trick for this purpose is to use a periodic domain and let the waves travel around it several times, thus avoiding the need for a huge computational domain.  This works well as long as the leading waves don't catch up with the tail.  Also, it's enough to examine one of the two wave trains (say, the right-going one).  Indeed, in our periodic domain, the left- and right-going trains would interact, so we'll want to eliminate one of them.\n",
    "\n",
    "In order to accomplish this, we'll add two advanced features to our simulation code.  First, we'll implement a custom boundary condition at the left edge, corresponding to an oscillating wall, that will only generate a right-going wave.  Second, we'll add a `before_step()` function.  `before_step` is a hook to do anything special that needs to occur at every (or any) time step in a PyClaw simulation.  We'll write a `before_step` function that changes the boundary conditions to be periodic after the initial wave is generated."
   ]
  },
  {
   "cell_type": "code",
   "execution_count": null,
   "metadata": {
    "collapsed": false
   },
   "outputs": [],
   "source": [
    "def set_bc_periodic(solver,state):\n",
    "    \"Change to periodic BCs after initial pulse\"\n",
    "    if state.t>5*state.problem_data['tw1']:\n",
    "        solver.bc_lower[0] = pyclaw.BC.periodic\n",
    "        solver.bc_upper[0] = pyclaw.BC.periodic\n",
    "        solver.aux_bc_lower[0] = pyclaw.BC.periodic\n",
    "        solver.aux_bc_upper[0] = pyclaw.BC.periodic\n",
    "        solver.before_step = None"
   ]
  },
  {
   "cell_type": "code",
   "execution_count": null,
   "metadata": {
    "collapsed": false
   },
   "outputs": [],
   "source": [
    "def moving_wall_bc(state,dim,t,qbc,num_ghost):\n",
    "    \"Initial pulse generated at left boundary by prescribed motion\"\n",
    "    if dim.on_lower_boundary:\n",
    "        qbc[0,:num_ghost]=qbc[0,num_ghost] \n",
    "        t=state.t; t1=state.problem_data['t1']; tw1=state.problem_data['tw1']\n",
    "        amp = state.problem_data['amp'];\n",
    "        t0 = (t-t1)/tw1\n",
    "        if abs(t0)<=1.: vwall = -amp*(1.+np.cos(t0*np.pi))\n",
    "        else: vwall=0.\n",
    "        for ibc in xrange(num_ghost-1):\n",
    "            qbc[1,num_ghost-ibc-1] = 2*vwall*state.aux[1,ibc] - qbc[1,num_ghost+ibc]"
   ]
  },
  {
   "cell_type": "markdown",
   "metadata": {},
   "source": [
    "Now well set up the new simulation."
   ]
  },
  {
   "cell_type": "code",
   "execution_count": null,
   "metadata": {
    "collapsed": false
   },
   "outputs": [],
   "source": [
    "riemann_solver = riemann.nonlinear_elasticity_fwave_1D\n",
    "solver = pyclaw.ClawSolver1D(riemann_solver)\n",
    "solver.fwave = True\n",
    "solver.before_step = set_bc_periodic\n",
    "\n",
    "# Boundary conditions\n",
    "solver.bc_lower[0] = pyclaw.BC.custom \n",
    "solver.user_bc_lower = moving_wall_bc\n",
    "\n",
    "solver.bc_upper[0] = pyclaw.BC.extrap\n",
    "solver.aux_bc_lower[0] = pyclaw.BC.extrap\n",
    "solver.aux_bc_upper[0] = pyclaw.BC.extrap\n",
    "\n",
    "\n",
    "xlower=0.0; xupper=300.0 \n",
    "cells_per_layer=24; mx=int(round(xupper-xlower))*cells_per_layer\n",
    "x = pyclaw.Dimension('x',xlower,xupper,mx)\n",
    "domain = pyclaw.Domain(x)\n",
    "state = pyclaw.State(domain,solver.num_eqn,3)\n",
    "xc=state.grid.x.centers\n",
    "\n",
    "#Initialize q and aux\n",
    "KA    = 1.0; rhoA  = 1.0\n",
    "KB    = 4.0; rhoB  = 4.0\n",
    "xfrac = xc-np.floor(xc)\n",
    "\n",
    "state.aux[0,:] = rhoA*(xfrac<0.5)+rhoB*(xfrac>=0.5) #Density\n",
    "state.aux[1,:] = KA  *(xfrac<0.5)+KB  *(xfrac>=0.5) #Bulk modulus\n",
    "state.aux[2,:] = 0. # not used\n",
    "\n",
    "state.q[0,:] = 0.  # Strain \n",
    "state.q[1,:] = 0.  # Momentum\n",
    "\n",
    "state.problem_data = {}\n",
    "state.problem_data['t1']    = 10.0\n",
    "state.problem_data['tw1']   = 10.0\n",
    "state.problem_data['amp']    = 0.1\n",
    "\n",
    "claw = pyclaw.Controller()\n",
    "claw.solution = pyclaw.Solution(state,domain)\n",
    "claw.solver = solver\n",
    "\n",
    "claw.num_output_times = 100\n",
    "claw.tfinal =  1000.\n",
    "claw.keep_copy = True\n",
    "claw.output_format = None"
   ]
  },
  {
   "cell_type": "code",
   "execution_count": null,
   "metadata": {
    "collapsed": false
   },
   "outputs": [],
   "source": [
    "claw.run()"
   ]
  },
  {
   "cell_type": "code",
   "execution_count": null,
   "metadata": {
    "collapsed": false
   },
   "outputs": [],
   "source": [
    "fig = plt.figure(figsize=[8,4])\n",
    "ax = plt.axes(xlim=(0, 300), ylim=(0, 0.6))\n",
    "line, = ax.plot([], [])\n",
    "\n",
    "animation.FuncAnimation(fig, fplot, frames=len(claw.frames))"
   ]
  },
  {
   "cell_type": "code",
   "execution_count": null,
   "metadata": {
    "collapsed": false
   },
   "outputs": [],
   "source": [
    "py.iplot(xc,claw.frames[-1].q[0,:])"
   ]
  },
  {
   "cell_type": "markdown",
   "metadata": {},
   "source": [
    "# Experimenting\n",
    "It's easy to run further experiments on your own, and there are lots of interesting questions to be asked.  For instance, you might wonder what happens if the impedance varies smoothly (say, sinusoidally) instead of being discontinuous.  Here's how you can find out:"
   ]
  },
  {
   "cell_type": "code",
   "execution_count": null,
   "metadata": {
    "collapsed": false
   },
   "outputs": [],
   "source": [
    "import copy\n",
    "claw.solution = copy.deepcopy(claw.frames[0])  # Reset simulation\n",
    "\n",
    "claw.solution.state.aux[0,:] = 0.5*(rhoA+rhoB) + 0.5*(rhoA-rhoB)*np.sin(2*np.pi*xc) #Density\n",
    "claw.solution.state.aux[1,:] = 0.5*(KA+KB) + 0.5*(KA-KB)*np.sin(2*np.pi*xc) #Bulk modulus\n",
    "claw.solution.state.aux[2,:] = 0. # not used\n",
    "\n",
    "solver = pyclaw.ClawSolver1D(riemann_solver)\n",
    "solver.fwave = True\n",
    "\n",
    "solver.bc_lower[0] = pyclaw.BC.custom\n",
    "solver.bc_upper[0] = pyclaw.BC.extrap\n",
    "\n",
    "solver.aux_bc_lower[0] = pyclaw.BC.extrap\n",
    "solver.aux_bc_upper[0] = pyclaw.BC.extrap\n",
    "\n",
    "solver.user_bc_lower = moving_wall_bc\n",
    "solver.before_step = set_bc_periodic\n",
    "claw.solver = solver\n",
    "claw.tfinal = 1000\n",
    "claw.frames = []\n",
    "claw.run()"
   ]
  },
  {
   "cell_type": "code",
   "execution_count": null,
   "metadata": {
    "collapsed": false
   },
   "outputs": [],
   "source": [
    "fig = plt.figure(figsize=[8,4])\n",
    "ax = plt.axes(xlim=(0, 300), ylim=(0, 0.6))\n",
    "line, = ax.plot([], [])\n",
    "\n",
    "animation.FuncAnimation(fig, fplot, frames=len(claw.frames))"
   ]
  },
  {
   "cell_type": "code",
   "execution_count": null,
   "metadata": {
    "collapsed": false
   },
   "outputs": [],
   "source": [
    "py.iplot(xc,claw.frames[-1].q[0,:])"
   ]
  },
  {
   "cell_type": "markdown",
   "metadata": {},
   "source": [
    "Zoom in on one of the waves above; they have an interesting shape!  Here are some other things to try, off the top of my head:\n",
    "\n",
    "- How does the **magnitude of the impedance variation** affect the waves?  What if the impedance is constant?  What if it changes only a little? (see [this paper](http://dx.doi.org/10.4310/CMS.2012.v10.n3.a7) for an explanation)\n",
    "- What happens if some random perturbations are added to the medium?\n",
    "- Try isolating two of the solitary waves and then supplying them as an initial condition, and let the taller one overtake the shorter.  What happens when they interact (see the original paper of LeVeque and Yong for some discussion)\n",
    "\n",
    "You can also look at multi-dimensional waves like these, but you'll want to run PyClaw in parallel (not in the notebook) to do so.  Take a look at [this paper](http://dx.doi.org/10.1007/s10915-013-9747-3) and some preprints listed [here](http://numerics.kaust.edu.sa/publications.html)."
   ]
  },
  {
   "cell_type": "code",
   "execution_count": null,
   "metadata": {
    "collapsed": false
   },
   "outputs": [],
   "source": []
  }
 ],
 "metadata": {
  "kernelspec": {
   "display_name": "Python 2",
   "language": "python",
   "name": "python2"
  },
  "language_info": {
   "codemirror_mode": {
    "name": "ipython",
    "version": 2
   },
   "file_extension": ".py",
   "mimetype": "text/x-python",
   "name": "python",
   "nbconvert_exporter": "python",
   "pygments_lexer": "ipython2",
   "version": "2.7.12"
  }
 },
 "nbformat": 4,
 "nbformat_minor": 0
}
